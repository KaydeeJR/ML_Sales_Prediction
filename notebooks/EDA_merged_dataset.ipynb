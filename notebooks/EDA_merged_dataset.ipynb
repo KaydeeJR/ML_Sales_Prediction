{
  "nbformat": 4,
  "nbformat_minor": 0,
  "metadata": {
    "colab": {
      "provenance": [],
      "collapsed_sections": [],
      "authorship_tag": "ABX9TyM9R5TSpEjXLga0nt75Tx3Z",
      "include_colab_link": true
    },
    "kernelspec": {
      "name": "python3",
      "display_name": "Python 3"
    },
    "language_info": {
      "name": "python"
    },
    "accelerator": "GPU",
    "gpuClass": "standard"
  },
  "cells": [
    {
      "cell_type": "markdown",
      "metadata": {
        "id": "view-in-github",
        "colab_type": "text"
      },
      "source": [
        "<a href=\"https://colab.research.google.com/github/KaydeeJR/ML_Sales_Prediction/blob/EDA/EDA_merged_dataset.ipynb\" target=\"_parent\"><img src=\"https://colab.research.google.com/assets/colab-badge.svg\" alt=\"Open In Colab\"/></a>"
      ]
    },
    {
      "cell_type": "markdown",
      "source": [
        " # **<u>EDA PERFORMED ON THE MERGED DATASET</u>**"
      ],
      "metadata": {
        "id": "Z2Dw88lOyoKQ"
      }
    },
    {
      "cell_type": "markdown",
      "source": [
        "**Accessing the dataset from my Google drive**"
      ],
      "metadata": {
        "id": "Twokgz-QzFAt"
      }
    },
    {
      "cell_type": "code",
      "execution_count": 101,
      "metadata": {
        "colab": {
          "base_uri": "https://localhost:8080/"
        },
        "id": "N0mscM02ycpP",
        "outputId": "14ecc2c4-3205-42e2-a3b1-d36c352029de"
      },
      "outputs": [
        {
          "output_type": "stream",
          "name": "stdout",
          "text": [
            "Drive already mounted at /content/drive; to attempt to forcibly remount, call drive.mount(\"/content/drive\", force_remount=True).\n",
            "/content/drive/MyDrive/Datasets/PharmaSalesCSV\n"
          ]
        }
      ],
      "source": [
        "from google.colab import drive\n",
        "drive.mount(\"/content/drive\")\n",
        "# Change to specific directory in google drive\n",
        "%cd /content/drive/MyDrive/Datasets/PharmaSalesCSV/\n",
        "# To list files in directory => !ls\n",
        "file_path_to_merged_dataset = \"merged_train_sales_store.csv\"\n",
        "file_path_to_test_set=\"merged_test_sales_store.csv\"\n",
        "import pandas as pd\n",
        "import warnings\n",
        "# DtypeWarning for pandas dataframe\n",
        "warnings.filterwarnings(\"ignore\")\n",
        "merged_train_dataset = pd.read_csv(file_path_to_merged_dataset,index_col=\"Unnamed: 0\",low_memory=False)\n",
        "merged_sales_test = pd.read_csv(file_path_to_test_set,index_col=\"Unnamed: 0\", low_memory=False)"
      ]
    },
    {
      "cell_type": "markdown",
      "source": [
        "\n",
        "\n",
        "---\n",
        "\n",
        "\n",
        "\n",
        "---\n",
        "\n"
      ],
      "metadata": {
        "id": "jlG1ALIwy1jE"
      }
    },
    {
      "cell_type": "markdown",
      "source": [
        "# **DESCRIBING DATASET**"
      ],
      "metadata": {
        "id": "kPGCizIg0BDC"
      }
    },
    {
      "cell_type": "code",
      "source": [
        "merged_train_dataset.tail()"
      ],
      "metadata": {
        "colab": {
          "base_uri": "https://localhost:8080/",
          "height": 357
        },
        "id": "swoSxs67z-I_",
        "outputId": "5cf9c779-b5f2-4cdb-fd37-c571b2710a76"
      },
      "execution_count": 2,
      "outputs": [
        {
          "output_type": "execute_result",
          "data": {
            "text/plain": [
              "         Store StoreType Assortment  CompetitionDistance  \\\n",
              "1017204   1115         d          c               5350.0   \n",
              "1017205   1115         d          c               5350.0   \n",
              "1017206   1115         d          c               5350.0   \n",
              "1017207   1115         d          c               5350.0   \n",
              "1017208   1115         d          c               5350.0   \n",
              "\n",
              "         CompetitionOpenSinceMonth  CompetitionOpenSinceYear  Promo2  \\\n",
              "1017204                        NaN                       NaN       1   \n",
              "1017205                        NaN                       NaN       1   \n",
              "1017206                        NaN                       NaN       1   \n",
              "1017207                        NaN                       NaN       1   \n",
              "1017208                        NaN                       NaN       1   \n",
              "\n",
              "         Promo2SinceWeek  Promo2SinceYear     PromoInterval  DayOfWeek  \\\n",
              "1017204             22.0           2012.0  Mar,Jun,Sept,Dec          6   \n",
              "1017205             22.0           2012.0  Mar,Jun,Sept,Dec          5   \n",
              "1017206             22.0           2012.0  Mar,Jun,Sept,Dec          4   \n",
              "1017207             22.0           2012.0  Mar,Jun,Sept,Dec          3   \n",
              "1017208             22.0           2012.0  Mar,Jun,Sept,Dec          2   \n",
              "\n",
              "               Date  Sales  Customers  Open  Promo StateHoliday  SchoolHoliday  \n",
              "1017204  2013-01-05   4771        339     1      0            0              1  \n",
              "1017205  2013-01-04   4540        326     1      0            0              1  \n",
              "1017206  2013-01-03   4297        300     1      0            0              1  \n",
              "1017207  2013-01-02   3697        305     1      0            0              1  \n",
              "1017208  2013-01-01      0          0     0      0            a              1  "
            ],
            "text/html": [
              "\n",
              "  <div id=\"df-8555c633-e5ca-4728-9d50-8346d70b306a\">\n",
              "    <div class=\"colab-df-container\">\n",
              "      <div>\n",
              "<style scoped>\n",
              "    .dataframe tbody tr th:only-of-type {\n",
              "        vertical-align: middle;\n",
              "    }\n",
              "\n",
              "    .dataframe tbody tr th {\n",
              "        vertical-align: top;\n",
              "    }\n",
              "\n",
              "    .dataframe thead th {\n",
              "        text-align: right;\n",
              "    }\n",
              "</style>\n",
              "<table border=\"1\" class=\"dataframe\">\n",
              "  <thead>\n",
              "    <tr style=\"text-align: right;\">\n",
              "      <th></th>\n",
              "      <th>Store</th>\n",
              "      <th>StoreType</th>\n",
              "      <th>Assortment</th>\n",
              "      <th>CompetitionDistance</th>\n",
              "      <th>CompetitionOpenSinceMonth</th>\n",
              "      <th>CompetitionOpenSinceYear</th>\n",
              "      <th>Promo2</th>\n",
              "      <th>Promo2SinceWeek</th>\n",
              "      <th>Promo2SinceYear</th>\n",
              "      <th>PromoInterval</th>\n",
              "      <th>DayOfWeek</th>\n",
              "      <th>Date</th>\n",
              "      <th>Sales</th>\n",
              "      <th>Customers</th>\n",
              "      <th>Open</th>\n",
              "      <th>Promo</th>\n",
              "      <th>StateHoliday</th>\n",
              "      <th>SchoolHoliday</th>\n",
              "    </tr>\n",
              "  </thead>\n",
              "  <tbody>\n",
              "    <tr>\n",
              "      <th>1017204</th>\n",
              "      <td>1115</td>\n",
              "      <td>d</td>\n",
              "      <td>c</td>\n",
              "      <td>5350.0</td>\n",
              "      <td>NaN</td>\n",
              "      <td>NaN</td>\n",
              "      <td>1</td>\n",
              "      <td>22.0</td>\n",
              "      <td>2012.0</td>\n",
              "      <td>Mar,Jun,Sept,Dec</td>\n",
              "      <td>6</td>\n",
              "      <td>2013-01-05</td>\n",
              "      <td>4771</td>\n",
              "      <td>339</td>\n",
              "      <td>1</td>\n",
              "      <td>0</td>\n",
              "      <td>0</td>\n",
              "      <td>1</td>\n",
              "    </tr>\n",
              "    <tr>\n",
              "      <th>1017205</th>\n",
              "      <td>1115</td>\n",
              "      <td>d</td>\n",
              "      <td>c</td>\n",
              "      <td>5350.0</td>\n",
              "      <td>NaN</td>\n",
              "      <td>NaN</td>\n",
              "      <td>1</td>\n",
              "      <td>22.0</td>\n",
              "      <td>2012.0</td>\n",
              "      <td>Mar,Jun,Sept,Dec</td>\n",
              "      <td>5</td>\n",
              "      <td>2013-01-04</td>\n",
              "      <td>4540</td>\n",
              "      <td>326</td>\n",
              "      <td>1</td>\n",
              "      <td>0</td>\n",
              "      <td>0</td>\n",
              "      <td>1</td>\n",
              "    </tr>\n",
              "    <tr>\n",
              "      <th>1017206</th>\n",
              "      <td>1115</td>\n",
              "      <td>d</td>\n",
              "      <td>c</td>\n",
              "      <td>5350.0</td>\n",
              "      <td>NaN</td>\n",
              "      <td>NaN</td>\n",
              "      <td>1</td>\n",
              "      <td>22.0</td>\n",
              "      <td>2012.0</td>\n",
              "      <td>Mar,Jun,Sept,Dec</td>\n",
              "      <td>4</td>\n",
              "      <td>2013-01-03</td>\n",
              "      <td>4297</td>\n",
              "      <td>300</td>\n",
              "      <td>1</td>\n",
              "      <td>0</td>\n",
              "      <td>0</td>\n",
              "      <td>1</td>\n",
              "    </tr>\n",
              "    <tr>\n",
              "      <th>1017207</th>\n",
              "      <td>1115</td>\n",
              "      <td>d</td>\n",
              "      <td>c</td>\n",
              "      <td>5350.0</td>\n",
              "      <td>NaN</td>\n",
              "      <td>NaN</td>\n",
              "      <td>1</td>\n",
              "      <td>22.0</td>\n",
              "      <td>2012.0</td>\n",
              "      <td>Mar,Jun,Sept,Dec</td>\n",
              "      <td>3</td>\n",
              "      <td>2013-01-02</td>\n",
              "      <td>3697</td>\n",
              "      <td>305</td>\n",
              "      <td>1</td>\n",
              "      <td>0</td>\n",
              "      <td>0</td>\n",
              "      <td>1</td>\n",
              "    </tr>\n",
              "    <tr>\n",
              "      <th>1017208</th>\n",
              "      <td>1115</td>\n",
              "      <td>d</td>\n",
              "      <td>c</td>\n",
              "      <td>5350.0</td>\n",
              "      <td>NaN</td>\n",
              "      <td>NaN</td>\n",
              "      <td>1</td>\n",
              "      <td>22.0</td>\n",
              "      <td>2012.0</td>\n",
              "      <td>Mar,Jun,Sept,Dec</td>\n",
              "      <td>2</td>\n",
              "      <td>2013-01-01</td>\n",
              "      <td>0</td>\n",
              "      <td>0</td>\n",
              "      <td>0</td>\n",
              "      <td>0</td>\n",
              "      <td>a</td>\n",
              "      <td>1</td>\n",
              "    </tr>\n",
              "  </tbody>\n",
              "</table>\n",
              "</div>\n",
              "      <button class=\"colab-df-convert\" onclick=\"convertToInteractive('df-8555c633-e5ca-4728-9d50-8346d70b306a')\"\n",
              "              title=\"Convert this dataframe to an interactive table.\"\n",
              "              style=\"display:none;\">\n",
              "        \n",
              "  <svg xmlns=\"http://www.w3.org/2000/svg\" height=\"24px\"viewBox=\"0 0 24 24\"\n",
              "       width=\"24px\">\n",
              "    <path d=\"M0 0h24v24H0V0z\" fill=\"none\"/>\n",
              "    <path d=\"M18.56 5.44l.94 2.06.94-2.06 2.06-.94-2.06-.94-.94-2.06-.94 2.06-2.06.94zm-11 1L8.5 8.5l.94-2.06 2.06-.94-2.06-.94L8.5 2.5l-.94 2.06-2.06.94zm10 10l.94 2.06.94-2.06 2.06-.94-2.06-.94-.94-2.06-.94 2.06-2.06.94z\"/><path d=\"M17.41 7.96l-1.37-1.37c-.4-.4-.92-.59-1.43-.59-.52 0-1.04.2-1.43.59L10.3 9.45l-7.72 7.72c-.78.78-.78 2.05 0 2.83L4 21.41c.39.39.9.59 1.41.59.51 0 1.02-.2 1.41-.59l7.78-7.78 2.81-2.81c.8-.78.8-2.07 0-2.86zM5.41 20L4 18.59l7.72-7.72 1.47 1.35L5.41 20z\"/>\n",
              "  </svg>\n",
              "      </button>\n",
              "      \n",
              "  <style>\n",
              "    .colab-df-container {\n",
              "      display:flex;\n",
              "      flex-wrap:wrap;\n",
              "      gap: 12px;\n",
              "    }\n",
              "\n",
              "    .colab-df-convert {\n",
              "      background-color: #E8F0FE;\n",
              "      border: none;\n",
              "      border-radius: 50%;\n",
              "      cursor: pointer;\n",
              "      display: none;\n",
              "      fill: #1967D2;\n",
              "      height: 32px;\n",
              "      padding: 0 0 0 0;\n",
              "      width: 32px;\n",
              "    }\n",
              "\n",
              "    .colab-df-convert:hover {\n",
              "      background-color: #E2EBFA;\n",
              "      box-shadow: 0px 1px 2px rgba(60, 64, 67, 0.3), 0px 1px 3px 1px rgba(60, 64, 67, 0.15);\n",
              "      fill: #174EA6;\n",
              "    }\n",
              "\n",
              "    [theme=dark] .colab-df-convert {\n",
              "      background-color: #3B4455;\n",
              "      fill: #D2E3FC;\n",
              "    }\n",
              "\n",
              "    [theme=dark] .colab-df-convert:hover {\n",
              "      background-color: #434B5C;\n",
              "      box-shadow: 0px 1px 3px 1px rgba(0, 0, 0, 0.15);\n",
              "      filter: drop-shadow(0px 1px 2px rgba(0, 0, 0, 0.3));\n",
              "      fill: #FFFFFF;\n",
              "    }\n",
              "  </style>\n",
              "\n",
              "      <script>\n",
              "        const buttonEl =\n",
              "          document.querySelector('#df-8555c633-e5ca-4728-9d50-8346d70b306a button.colab-df-convert');\n",
              "        buttonEl.style.display =\n",
              "          google.colab.kernel.accessAllowed ? 'block' : 'none';\n",
              "\n",
              "        async function convertToInteractive(key) {\n",
              "          const element = document.querySelector('#df-8555c633-e5ca-4728-9d50-8346d70b306a');\n",
              "          const dataTable =\n",
              "            await google.colab.kernel.invokeFunction('convertToInteractive',\n",
              "                                                     [key], {});\n",
              "          if (!dataTable) return;\n",
              "\n",
              "          const docLinkHtml = 'Like what you see? Visit the ' +\n",
              "            '<a target=\"_blank\" href=https://colab.research.google.com/notebooks/data_table.ipynb>data table notebook</a>'\n",
              "            + ' to learn more about interactive tables.';\n",
              "          element.innerHTML = '';\n",
              "          dataTable['output_type'] = 'display_data';\n",
              "          await google.colab.output.renderOutput(dataTable, element);\n",
              "          const docLink = document.createElement('div');\n",
              "          docLink.innerHTML = docLinkHtml;\n",
              "          element.appendChild(docLink);\n",
              "        }\n",
              "      </script>\n",
              "    </div>\n",
              "  </div>\n",
              "  "
            ]
          },
          "metadata": {},
          "execution_count": 2
        }
      ]
    },
    {
      "cell_type": "code",
      "source": [
        "merged_sales_test.tail()"
      ],
      "metadata": {
        "colab": {
          "base_uri": "https://localhost:8080/",
          "height": 357
        },
        "id": "XZUJBdLMeeyx",
        "outputId": "c7146f92-16db-4f74-b72c-b0352039c579"
      },
      "execution_count": 3,
      "outputs": [
        {
          "output_type": "execute_result",
          "data": {
            "text/plain": [
              "       Store StoreType Assortment  CompetitionDistance  \\\n",
              "41342   1115         d          c               5350.0   \n",
              "41343   1115         d          c               5350.0   \n",
              "41344   1115         d          c               5350.0   \n",
              "41345   1115         d          c               5350.0   \n",
              "41346   1115         d          c               5350.0   \n",
              "\n",
              "       CompetitionOpenSinceMonth  CompetitionOpenSinceYear  Promo2  \\\n",
              "41342                        NaN                       NaN       1   \n",
              "41343                        NaN                       NaN       1   \n",
              "41344                        NaN                       NaN       1   \n",
              "41345                        NaN                       NaN       1   \n",
              "41346                        NaN                       NaN       1   \n",
              "\n",
              "       Promo2SinceWeek  Promo2SinceYear     PromoInterval       Id  DayOfWeek  \\\n",
              "41342             22.0           2012.0  Mar,Jun,Sept,Dec  37664.0        3.0   \n",
              "41343             22.0           2012.0  Mar,Jun,Sept,Dec  38520.0        2.0   \n",
              "41344             22.0           2012.0  Mar,Jun,Sept,Dec  39376.0        1.0   \n",
              "41345             22.0           2012.0  Mar,Jun,Sept,Dec  40232.0        7.0   \n",
              "41346             22.0           2012.0  Mar,Jun,Sept,Dec  41088.0        6.0   \n",
              "\n",
              "             Date  Open  Promo StateHoliday  SchoolHoliday  \n",
              "41342  2015-08-05   1.0    1.0            0            1.0  \n",
              "41343  2015-08-04   1.0    1.0            0            1.0  \n",
              "41344  2015-08-03   1.0    1.0            0            1.0  \n",
              "41345  2015-08-02   0.0    0.0            0            1.0  \n",
              "41346  2015-08-01   1.0    0.0            0            1.0  "
            ],
            "text/html": [
              "\n",
              "  <div id=\"df-b87d5ead-447f-4cc1-9393-277f4de3806b\">\n",
              "    <div class=\"colab-df-container\">\n",
              "      <div>\n",
              "<style scoped>\n",
              "    .dataframe tbody tr th:only-of-type {\n",
              "        vertical-align: middle;\n",
              "    }\n",
              "\n",
              "    .dataframe tbody tr th {\n",
              "        vertical-align: top;\n",
              "    }\n",
              "\n",
              "    .dataframe thead th {\n",
              "        text-align: right;\n",
              "    }\n",
              "</style>\n",
              "<table border=\"1\" class=\"dataframe\">\n",
              "  <thead>\n",
              "    <tr style=\"text-align: right;\">\n",
              "      <th></th>\n",
              "      <th>Store</th>\n",
              "      <th>StoreType</th>\n",
              "      <th>Assortment</th>\n",
              "      <th>CompetitionDistance</th>\n",
              "      <th>CompetitionOpenSinceMonth</th>\n",
              "      <th>CompetitionOpenSinceYear</th>\n",
              "      <th>Promo2</th>\n",
              "      <th>Promo2SinceWeek</th>\n",
              "      <th>Promo2SinceYear</th>\n",
              "      <th>PromoInterval</th>\n",
              "      <th>Id</th>\n",
              "      <th>DayOfWeek</th>\n",
              "      <th>Date</th>\n",
              "      <th>Open</th>\n",
              "      <th>Promo</th>\n",
              "      <th>StateHoliday</th>\n",
              "      <th>SchoolHoliday</th>\n",
              "    </tr>\n",
              "  </thead>\n",
              "  <tbody>\n",
              "    <tr>\n",
              "      <th>41342</th>\n",
              "      <td>1115</td>\n",
              "      <td>d</td>\n",
              "      <td>c</td>\n",
              "      <td>5350.0</td>\n",
              "      <td>NaN</td>\n",
              "      <td>NaN</td>\n",
              "      <td>1</td>\n",
              "      <td>22.0</td>\n",
              "      <td>2012.0</td>\n",
              "      <td>Mar,Jun,Sept,Dec</td>\n",
              "      <td>37664.0</td>\n",
              "      <td>3.0</td>\n",
              "      <td>2015-08-05</td>\n",
              "      <td>1.0</td>\n",
              "      <td>1.0</td>\n",
              "      <td>0</td>\n",
              "      <td>1.0</td>\n",
              "    </tr>\n",
              "    <tr>\n",
              "      <th>41343</th>\n",
              "      <td>1115</td>\n",
              "      <td>d</td>\n",
              "      <td>c</td>\n",
              "      <td>5350.0</td>\n",
              "      <td>NaN</td>\n",
              "      <td>NaN</td>\n",
              "      <td>1</td>\n",
              "      <td>22.0</td>\n",
              "      <td>2012.0</td>\n",
              "      <td>Mar,Jun,Sept,Dec</td>\n",
              "      <td>38520.0</td>\n",
              "      <td>2.0</td>\n",
              "      <td>2015-08-04</td>\n",
              "      <td>1.0</td>\n",
              "      <td>1.0</td>\n",
              "      <td>0</td>\n",
              "      <td>1.0</td>\n",
              "    </tr>\n",
              "    <tr>\n",
              "      <th>41344</th>\n",
              "      <td>1115</td>\n",
              "      <td>d</td>\n",
              "      <td>c</td>\n",
              "      <td>5350.0</td>\n",
              "      <td>NaN</td>\n",
              "      <td>NaN</td>\n",
              "      <td>1</td>\n",
              "      <td>22.0</td>\n",
              "      <td>2012.0</td>\n",
              "      <td>Mar,Jun,Sept,Dec</td>\n",
              "      <td>39376.0</td>\n",
              "      <td>1.0</td>\n",
              "      <td>2015-08-03</td>\n",
              "      <td>1.0</td>\n",
              "      <td>1.0</td>\n",
              "      <td>0</td>\n",
              "      <td>1.0</td>\n",
              "    </tr>\n",
              "    <tr>\n",
              "      <th>41345</th>\n",
              "      <td>1115</td>\n",
              "      <td>d</td>\n",
              "      <td>c</td>\n",
              "      <td>5350.0</td>\n",
              "      <td>NaN</td>\n",
              "      <td>NaN</td>\n",
              "      <td>1</td>\n",
              "      <td>22.0</td>\n",
              "      <td>2012.0</td>\n",
              "      <td>Mar,Jun,Sept,Dec</td>\n",
              "      <td>40232.0</td>\n",
              "      <td>7.0</td>\n",
              "      <td>2015-08-02</td>\n",
              "      <td>0.0</td>\n",
              "      <td>0.0</td>\n",
              "      <td>0</td>\n",
              "      <td>1.0</td>\n",
              "    </tr>\n",
              "    <tr>\n",
              "      <th>41346</th>\n",
              "      <td>1115</td>\n",
              "      <td>d</td>\n",
              "      <td>c</td>\n",
              "      <td>5350.0</td>\n",
              "      <td>NaN</td>\n",
              "      <td>NaN</td>\n",
              "      <td>1</td>\n",
              "      <td>22.0</td>\n",
              "      <td>2012.0</td>\n",
              "      <td>Mar,Jun,Sept,Dec</td>\n",
              "      <td>41088.0</td>\n",
              "      <td>6.0</td>\n",
              "      <td>2015-08-01</td>\n",
              "      <td>1.0</td>\n",
              "      <td>0.0</td>\n",
              "      <td>0</td>\n",
              "      <td>1.0</td>\n",
              "    </tr>\n",
              "  </tbody>\n",
              "</table>\n",
              "</div>\n",
              "      <button class=\"colab-df-convert\" onclick=\"convertToInteractive('df-b87d5ead-447f-4cc1-9393-277f4de3806b')\"\n",
              "              title=\"Convert this dataframe to an interactive table.\"\n",
              "              style=\"display:none;\">\n",
              "        \n",
              "  <svg xmlns=\"http://www.w3.org/2000/svg\" height=\"24px\"viewBox=\"0 0 24 24\"\n",
              "       width=\"24px\">\n",
              "    <path d=\"M0 0h24v24H0V0z\" fill=\"none\"/>\n",
              "    <path d=\"M18.56 5.44l.94 2.06.94-2.06 2.06-.94-2.06-.94-.94-2.06-.94 2.06-2.06.94zm-11 1L8.5 8.5l.94-2.06 2.06-.94-2.06-.94L8.5 2.5l-.94 2.06-2.06.94zm10 10l.94 2.06.94-2.06 2.06-.94-2.06-.94-.94-2.06-.94 2.06-2.06.94z\"/><path d=\"M17.41 7.96l-1.37-1.37c-.4-.4-.92-.59-1.43-.59-.52 0-1.04.2-1.43.59L10.3 9.45l-7.72 7.72c-.78.78-.78 2.05 0 2.83L4 21.41c.39.39.9.59 1.41.59.51 0 1.02-.2 1.41-.59l7.78-7.78 2.81-2.81c.8-.78.8-2.07 0-2.86zM5.41 20L4 18.59l7.72-7.72 1.47 1.35L5.41 20z\"/>\n",
              "  </svg>\n",
              "      </button>\n",
              "      \n",
              "  <style>\n",
              "    .colab-df-container {\n",
              "      display:flex;\n",
              "      flex-wrap:wrap;\n",
              "      gap: 12px;\n",
              "    }\n",
              "\n",
              "    .colab-df-convert {\n",
              "      background-color: #E8F0FE;\n",
              "      border: none;\n",
              "      border-radius: 50%;\n",
              "      cursor: pointer;\n",
              "      display: none;\n",
              "      fill: #1967D2;\n",
              "      height: 32px;\n",
              "      padding: 0 0 0 0;\n",
              "      width: 32px;\n",
              "    }\n",
              "\n",
              "    .colab-df-convert:hover {\n",
              "      background-color: #E2EBFA;\n",
              "      box-shadow: 0px 1px 2px rgba(60, 64, 67, 0.3), 0px 1px 3px 1px rgba(60, 64, 67, 0.15);\n",
              "      fill: #174EA6;\n",
              "    }\n",
              "\n",
              "    [theme=dark] .colab-df-convert {\n",
              "      background-color: #3B4455;\n",
              "      fill: #D2E3FC;\n",
              "    }\n",
              "\n",
              "    [theme=dark] .colab-df-convert:hover {\n",
              "      background-color: #434B5C;\n",
              "      box-shadow: 0px 1px 3px 1px rgba(0, 0, 0, 0.15);\n",
              "      filter: drop-shadow(0px 1px 2px rgba(0, 0, 0, 0.3));\n",
              "      fill: #FFFFFF;\n",
              "    }\n",
              "  </style>\n",
              "\n",
              "      <script>\n",
              "        const buttonEl =\n",
              "          document.querySelector('#df-b87d5ead-447f-4cc1-9393-277f4de3806b button.colab-df-convert');\n",
              "        buttonEl.style.display =\n",
              "          google.colab.kernel.accessAllowed ? 'block' : 'none';\n",
              "\n",
              "        async function convertToInteractive(key) {\n",
              "          const element = document.querySelector('#df-b87d5ead-447f-4cc1-9393-277f4de3806b');\n",
              "          const dataTable =\n",
              "            await google.colab.kernel.invokeFunction('convertToInteractive',\n",
              "                                                     [key], {});\n",
              "          if (!dataTable) return;\n",
              "\n",
              "          const docLinkHtml = 'Like what you see? Visit the ' +\n",
              "            '<a target=\"_blank\" href=https://colab.research.google.com/notebooks/data_table.ipynb>data table notebook</a>'\n",
              "            + ' to learn more about interactive tables.';\n",
              "          element.innerHTML = '';\n",
              "          dataTable['output_type'] = 'display_data';\n",
              "          await google.colab.output.renderOutput(dataTable, element);\n",
              "          const docLink = document.createElement('div');\n",
              "          docLink.innerHTML = docLinkHtml;\n",
              "          element.appendChild(docLink);\n",
              "        }\n",
              "      </script>\n",
              "    </div>\n",
              "  </div>\n",
              "  "
            ]
          },
          "metadata": {},
          "execution_count": 3
        }
      ]
    },
    {
      "cell_type": "code",
      "source": [
        "# convert Date column to datetime object\n",
        "merged_train_dataset['Date']=pd.to_datetime(merged_train_dataset['Date'])\n",
        "merged_sales_test['Date'] = pd.to_datetime(merged_sales_test['Date'])"
      ],
      "metadata": {
        "id": "AUcJFC-YKub-"
      },
      "execution_count": 106,
      "outputs": []
    },
    {
      "cell_type": "code",
      "source": [
        "merged_train_dataset.info()"
      ],
      "metadata": {
        "colab": {
          "base_uri": "https://localhost:8080/"
        },
        "id": "6UtuZmaw0QUp",
        "outputId": "61db2c57-4d3d-4070-e596-00c59c2ab7c1"
      },
      "execution_count": 5,
      "outputs": [
        {
          "output_type": "stream",
          "name": "stdout",
          "text": [
            "<class 'pandas.core.frame.DataFrame'>\n",
            "Int64Index: 1017209 entries, 0 to 1017208\n",
            "Data columns (total 18 columns):\n",
            " #   Column                     Non-Null Count    Dtype         \n",
            "---  ------                     --------------    -----         \n",
            " 0   Store                      1017209 non-null  int64         \n",
            " 1   StoreType                  1017209 non-null  object        \n",
            " 2   Assortment                 1017209 non-null  object        \n",
            " 3   CompetitionDistance        1014567 non-null  float64       \n",
            " 4   CompetitionOpenSinceMonth  693861 non-null   float64       \n",
            " 5   CompetitionOpenSinceYear   693861 non-null   float64       \n",
            " 6   Promo2                     1017209 non-null  int64         \n",
            " 7   Promo2SinceWeek            509178 non-null   float64       \n",
            " 8   Promo2SinceYear            509178 non-null   float64       \n",
            " 9   PromoInterval              509178 non-null   object        \n",
            " 10  DayOfWeek                  1017209 non-null  int64         \n",
            " 11  Date                       1017209 non-null  datetime64[ns]\n",
            " 12  Sales                      1017209 non-null  int64         \n",
            " 13  Customers                  1017209 non-null  int64         \n",
            " 14  Open                       1017209 non-null  int64         \n",
            " 15  Promo                      1017209 non-null  int64         \n",
            " 16  StateHoliday               1017209 non-null  object        \n",
            " 17  SchoolHoliday              1017209 non-null  int64         \n",
            "dtypes: datetime64[ns](1), float64(5), int64(8), object(4)\n",
            "memory usage: 147.5+ MB\n"
          ]
        }
      ]
    },
    {
      "cell_type": "code",
      "source": [
        "merged_train_dataset.isnull().sum()"
      ],
      "metadata": {
        "colab": {
          "base_uri": "https://localhost:8080/"
        },
        "id": "u3_S4eHE0bkO",
        "outputId": "2c5c217e-19c3-4ba9-d2f3-bd3347df1e50"
      },
      "execution_count": 6,
      "outputs": [
        {
          "output_type": "execute_result",
          "data": {
            "text/plain": [
              "Store                             0\n",
              "StoreType                         0\n",
              "Assortment                        0\n",
              "CompetitionDistance            2642\n",
              "CompetitionOpenSinceMonth    323348\n",
              "CompetitionOpenSinceYear     323348\n",
              "Promo2                            0\n",
              "Promo2SinceWeek              508031\n",
              "Promo2SinceYear              508031\n",
              "PromoInterval                508031\n",
              "DayOfWeek                         0\n",
              "Date                              0\n",
              "Sales                             0\n",
              "Customers                         0\n",
              "Open                              0\n",
              "Promo                             0\n",
              "StateHoliday                      0\n",
              "SchoolHoliday                     0\n",
              "dtype: int64"
            ]
          },
          "metadata": {},
          "execution_count": 6
        }
      ]
    },
    {
      "cell_type": "code",
      "source": [
        "merged_sales_test.info()"
      ],
      "metadata": {
        "colab": {
          "base_uri": "https://localhost:8080/"
        },
        "id": "J1RrZBDAekAx",
        "outputId": "09fe5b49-26f9-4d81-a3b7-9e6649fb3931"
      },
      "execution_count": 7,
      "outputs": [
        {
          "output_type": "stream",
          "name": "stdout",
          "text": [
            "<class 'pandas.core.frame.DataFrame'>\n",
            "Int64Index: 41347 entries, 0 to 41346\n",
            "Data columns (total 17 columns):\n",
            " #   Column                     Non-Null Count  Dtype         \n",
            "---  ------                     --------------  -----         \n",
            " 0   Store                      41347 non-null  int64         \n",
            " 1   StoreType                  41347 non-null  object        \n",
            " 2   Assortment                 41347 non-null  object        \n",
            " 3   CompetitionDistance        41250 non-null  float64       \n",
            " 4   CompetitionOpenSinceMonth  26094 non-null  float64       \n",
            " 5   CompetitionOpenSinceYear   26094 non-null  float64       \n",
            " 6   Promo2                     41347 non-null  int64         \n",
            " 7   Promo2SinceWeek            23930 non-null  float64       \n",
            " 8   Promo2SinceYear            23930 non-null  float64       \n",
            " 9   PromoInterval              23930 non-null  object        \n",
            " 10  Id                         41088 non-null  float64       \n",
            " 11  DayOfWeek                  41088 non-null  float64       \n",
            " 12  Date                       41088 non-null  datetime64[ns]\n",
            " 13  Open                       41077 non-null  float64       \n",
            " 14  Promo                      41088 non-null  float64       \n",
            " 15  StateHoliday               41088 non-null  object        \n",
            " 16  SchoolHoliday              41088 non-null  float64       \n",
            "dtypes: datetime64[ns](1), float64(10), int64(2), object(4)\n",
            "memory usage: 5.7+ MB\n"
          ]
        }
      ]
    },
    {
      "cell_type": "code",
      "source": [
        "merged_train_dataset.nunique()"
      ],
      "metadata": {
        "colab": {
          "base_uri": "https://localhost:8080/"
        },
        "id": "tkMFw8Wr0UFz",
        "outputId": "8ff0c967-bfb0-4ddc-a228-53edc867144a"
      },
      "execution_count": 8,
      "outputs": [
        {
          "output_type": "execute_result",
          "data": {
            "text/plain": [
              "Store                         1115\n",
              "StoreType                        4\n",
              "Assortment                       3\n",
              "CompetitionDistance            654\n",
              "CompetitionOpenSinceMonth       12\n",
              "CompetitionOpenSinceYear        23\n",
              "Promo2                           2\n",
              "Promo2SinceWeek                 24\n",
              "Promo2SinceYear                  7\n",
              "PromoInterval                    3\n",
              "DayOfWeek                        7\n",
              "Date                           942\n",
              "Sales                        21734\n",
              "Customers                     4086\n",
              "Open                             2\n",
              "Promo                            2\n",
              "StateHoliday                     4\n",
              "SchoolHoliday                    2\n",
              "dtype: int64"
            ]
          },
          "metadata": {},
          "execution_count": 8
        }
      ]
    },
    {
      "cell_type": "code",
      "source": [
        "merged_sales_test.nunique()"
      ],
      "metadata": {
        "colab": {
          "base_uri": "https://localhost:8080/"
        },
        "id": "hzguV4VFy_qU",
        "outputId": "c8889fa6-1088-4307-83ba-d978ac93931f"
      },
      "execution_count": 9,
      "outputs": [
        {
          "output_type": "execute_result",
          "data": {
            "text/plain": [
              "Store                         1115\n",
              "StoreType                        4\n",
              "Assortment                       3\n",
              "CompetitionDistance            654\n",
              "CompetitionOpenSinceMonth       12\n",
              "CompetitionOpenSinceYear        23\n",
              "Promo2                           2\n",
              "Promo2SinceWeek                 24\n",
              "Promo2SinceYear                  7\n",
              "PromoInterval                    3\n",
              "Id                           41088\n",
              "DayOfWeek                        7\n",
              "Date                            48\n",
              "Open                             2\n",
              "Promo                            2\n",
              "StateHoliday                     2\n",
              "SchoolHoliday                    2\n",
              "dtype: int64"
            ]
          },
          "metadata": {},
          "execution_count": 9
        }
      ]
    },
    {
      "cell_type": "markdown",
      "source": [
        "## **VISUALIZING MISSING VALUES**"
      ],
      "metadata": {
        "id": "go_TcwiXzqO7"
      }
    },
    {
      "cell_type": "code",
      "source": [
        "import missingno as msno\n",
        "import matplotlib.pyplot as plt\n",
        "msno.bar(merged_train_dataset, labels=list(merged_train_dataset.columns))\n",
        "plt.show()"
      ],
      "metadata": {
        "colab": {
          "base_uri": "https://localhost:8080/",
          "height": 468
        },
        "id": "9b6SsmsJ0kfe",
        "outputId": "18ae49d4-7b3b-4726-aff4-02786868556b"
      },
      "execution_count": null,
      "outputs": [
        {
          "output_type": "display_data",
          "data": {
            "text/plain": [
              "<Figure size 1800x720 with 3 Axes>"
            ],
            "image/png": "[encoded data removed]"
          },
          "metadata": {
            "needs_background": "light"
          }
        }
      ]
    },
    {
      "cell_type": "code",
      "source": [
        "import matplotlib.pyplot as plt\n",
        "import seaborn as sns\n",
        "columns_with_null = merged_train_dataset.columns[merged_train_dataset.isna().any()].tolist()\n",
        "missing_values = sns.heatmap(merged_train_dataset[columns_with_null].isnull(), cbar=False)\n",
        "missing_values.figure.set_size_inches(10,10)\n",
        "plt.show()"
      ],
      "metadata": {
        "colab": {
          "base_uri": "https://localhost:8080/",
          "height": 732
        },
        "id": "bwuG6eNX7k4I",
        "outputId": "56bd0b49-bfda-499b-ad53-32e5b2733c50"
      },
      "execution_count": null,
      "outputs": [
        {
          "output_type": "display_data",
          "data": {
            "text/plain": [
              "<Figure size 720x720 with 1 Axes>"
            ],
            "image/png": "[encoded data removed]"
          },
          "metadata": {
            "needs_background": "light"
          }
        }
      ]
    },
    {
      "cell_type": "code",
      "source": [
        "print(columns_with_null)"
      ],
      "metadata": {
        "colab": {
          "base_uri": "https://localhost:8080/"
        },
        "id": "bveaVs05aN8z",
        "outputId": "72a2a0cb-501c-4f3d-ddbf-bb89cf78e61c"
      },
      "execution_count": null,
      "outputs": [
        {
          "output_type": "stream",
          "name": "stdout",
          "text": [
            "['CompetitionDistance', 'CompetitionOpenSinceMonth', 'CompetitionOpenSinceYear', 'Promo2SinceWeek', 'Promo2SinceYear', 'PromoInterval']\n"
          ]
        }
      ]
    },
    {
      "cell_type": "code",
      "source": [
        "test_columns_with_null = merged_sales_test.columns[merged_sales_test.isna().any()].tolist()\n",
        "print(test_columns_with_null)"
      ],
      "metadata": {
        "colab": {
          "base_uri": "https://localhost:8080/"
        },
        "id": "Qmh0sjU_0sLg",
        "outputId": "3c5fd078-67bc-460a-8213-7531c6ae940a"
      },
      "execution_count": null,
      "outputs": [
        {
          "output_type": "stream",
          "name": "stdout",
          "text": [
            "['CompetitionDistance', 'CompetitionOpenSinceMonth', 'CompetitionOpenSinceYear', 'Promo2SinceWeek', 'Promo2SinceYear', 'PromoInterval', 'Id', 'DayOfWeek', 'Date', 'Open', 'Promo', 'StateHoliday', 'SchoolHoliday']\n"
          ]
        }
      ]
    },
    {
      "cell_type": "markdown",
      "source": [
        "## **WEEKDAYS & WEEKENDS**"
      ],
      "metadata": {
        "id": "_uc22cP48_L6"
      }
    },
    {
      "cell_type": "code",
      "source": [
        "merged_train_dataset[\"DayOfWeek\"].unique()"
      ],
      "metadata": {
        "colab": {
          "base_uri": "https://localhost:8080/"
        },
        "id": "ipJT5Xfx837l",
        "outputId": "aa5bcb4f-b639-4837-9d30-ec76aef271da"
      },
      "execution_count": null,
      "outputs": [
        {
          "output_type": "execute_result",
          "data": {
            "text/plain": [
              "array([5, 4, 3, 2, 1, 7, 6])"
            ]
          },
          "metadata": {},
          "execution_count": 13
        }
      ]
    },
    {
      "cell_type": "markdown",
      "source": [
        "## **HOLIDAYS**"
      ],
      "metadata": {
        "id": "J8FO0u1gBSo8"
      }
    },
    {
      "cell_type": "code",
      "source": [
        "years_list = list(merged_train_dataset['Date'].dt.year.value_counts().index)"
      ],
      "metadata": {
        "id": "QG2w21aaLOot"
      },
      "execution_count": null,
      "outputs": []
    },
    {
      "cell_type": "code",
      "source": [
        "import holidays"
      ],
      "metadata": {
        "id": "Lm6P6x0NBTTH"
      },
      "execution_count": null,
      "outputs": []
    },
    {
      "cell_type": "code",
      "source": [
        "holiday_dict = {}\n",
        "# get unique dates in date column\n",
        "unique_dates = merged_train_dataset[\"Date\"].dt.date.value_counts().index\n",
        "# get number of years in dataset\n",
        "for y in range(len(years_list)):\n",
        "    for k, v in holidays.US(years=years_list[y]).items(): # k = dates, v = holiday name\n",
        "        if k in unique_dates:\n",
        "            holiday_dict[k] = v"
      ],
      "metadata": {
        "id": "ZWxfVxBbEGW6"
      },
      "execution_count": null,
      "outputs": []
    },
    {
      "cell_type": "markdown",
      "source": [
        "## **RETAIL ASSORTMENT AND SALES**"
      ],
      "metadata": {
        "id": "VSZ5ZCTEz6WF"
      }
    },
    {
      "cell_type": "code",
      "source": [
        "import matplotlib.pyplot as plt\n",
        "# Retail Assortment strategies:\n",
        "# a = basic\n",
        "# b = extra\n",
        "# c = extended\n",
        "plt.figure(figsize=(10,10))\n",
        "assortment_labels =[\"Basic\",\"Extended\",\"Extra\"]\n",
        "pd.set_option('display.float_format', lambda x: '%.3f' % x)\n",
        "assort_sales_DF = merged_train_dataset.groupby(\"Assortment\").sum()[\"Sales\"].to_frame()\n",
        "assort_sales_axis = assort_sales_DF.plot(kind='bar',legend=False)\n",
        "assort_sales_axis.set_xlabel('Retail Assortment Strategy')\n",
        "assort_sales_axis.set_ylabel('Sales($)')\n",
        "assort_sales_axis.set_title('Sales ($) per retail assortment strategy')\n",
        "assort_sales_axis.set_xticklabels(assortment_labels,rotation=0)\n",
        "for index in range(len(assort_sales_DF[\"Sales\"])):\n",
        "    # plot text at coordinates\n",
        "    assort_sales_axis.text(index, (assort_sales_DF[\"Sales\"].values[index])+10^9,\n",
        "            assort_sales_DF[\"Sales\"].values[index],\n",
        "            horizontalalignment='center', fontsize=12)\n",
        "plt.show()"
      ],
      "metadata": {
        "colab": {
          "base_uri": "https://localhost:8080/",
          "height": 312
        },
        "id": "CMAtaN-Vz5U7",
        "outputId": "034d0b06-b3e0-4bf0-df18-c856c8e0559b"
      },
      "execution_count": 69,
      "outputs": [
        {
          "output_type": "display_data",
          "data": {
            "text/plain": [
              "<Figure size 720x720 with 0 Axes>"
            ]
          },
          "metadata": {}
        },
        {
          "output_type": "display_data",
          "data": {
            "text/plain": [
              "<Figure size 432x288 with 1 Axes>"
            ],
            "image/png": "[encoded data removed]"
          },
          "metadata": {
            "needs_background": "light"
          }
        }
      ]
    },
    {
      "cell_type": "markdown",
      "source": [
        "# **PREPROCESSING**"
      ],
      "metadata": {
        "id": "_lQp4hKpL4HX"
      }
    },
    {
      "cell_type": "code",
      "source": [
        "!pip install pyts"
      ],
      "metadata": {
        "colab": {
          "base_uri": "https://localhost:8080/"
        },
        "id": "gxLO7NykMOWr",
        "outputId": "11bd5969-2674-42af-b0d7-3125bab8b018"
      },
      "execution_count": null,
      "outputs": [
        {
          "output_type": "stream",
          "name": "stdout",
          "text": [
            "Looking in indexes: https://pypi.org/simple, https://us-python.pkg.dev/colab-wheels/public/simple/\n",
            "Collecting pyts\n",
            "  Downloading pyts-0.12.0-py3-none-any.whl (2.5 MB)\n",
            "\u001b[K     |████████████████████████████████| 2.5 MB 7.5 MB/s \n",
            "\u001b[?25hRequirement already satisfied: numpy>=1.17.5 in /usr/local/lib/python3.7/dist-packages (from pyts) (1.21.6)\n",
            "Requirement already satisfied: joblib>=0.12 in /usr/local/lib/python3.7/dist-packages (from pyts) (1.1.0)\n",
            "Requirement already satisfied: scikit-learn>=0.22.1 in /usr/local/lib/python3.7/dist-packages (from pyts) (1.0.2)\n",
            "Requirement already satisfied: scipy>=1.3.0 in /usr/local/lib/python3.7/dist-packages (from pyts) (1.7.3)\n",
            "Requirement already satisfied: numba>=0.48.0 in /usr/local/lib/python3.7/dist-packages (from pyts) (0.56.0)\n",
            "Requirement already satisfied: llvmlite<0.40,>=0.39.0dev0 in /usr/local/lib/python3.7/dist-packages (from numba>=0.48.0->pyts) (0.39.0)\n",
            "Requirement already satisfied: importlib-metadata in /usr/local/lib/python3.7/dist-packages (from numba>=0.48.0->pyts) (4.12.0)\n",
            "Requirement already satisfied: setuptools in /usr/local/lib/python3.7/dist-packages (from numba>=0.48.0->pyts) (57.4.0)\n",
            "Requirement already satisfied: threadpoolctl>=2.0.0 in /usr/local/lib/python3.7/dist-packages (from scikit-learn>=0.22.1->pyts) (3.1.0)\n",
            "Requirement already satisfied: typing-extensions>=3.6.4 in /usr/local/lib/python3.7/dist-packages (from importlib-metadata->numba>=0.48.0->pyts) (4.1.1)\n",
            "Requirement already satisfied: zipp>=0.5 in /usr/local/lib/python3.7/dist-packages (from importlib-metadata->numba>=0.48.0->pyts) (3.8.1)\n",
            "Installing collected packages: pyts\n",
            "Successfully installed pyts-0.12.0\n"
          ]
        }
      ]
    },
    {
      "cell_type": "code",
      "source": [
        "from sklearn.pipeline import Pipeline\n",
        "from sklearn.preprocessing import StandardScaler, OneHotEncoder\n",
        "from sklearn.compose import ColumnTransformer\n",
        "from sklearn.impute import SimpleImputer\n",
        "from pyts.preprocessing import InterpolationImputer"
      ],
      "metadata": {
        "id": "S_7PzqW6L9vd"
      },
      "execution_count": null,
      "outputs": []
    },
    {
      "cell_type": "code",
      "source": [
        "# preprocessing actions -> all features are numeric\n",
        "import numpy as np\n",
        "x_DF = merged_train_dataset.drop(\"Sales\",axis=1)\n",
        "y_DF = np.array(merged_train_dataset['Sales'])\n",
        "# Saving feature names\n",
        "features_list = list(merged_train_dataset.columns)\n",
        "numeric_transformer = Pipeline(steps=[('scaler', StandardScaler())])\n",
        "categorical_transformer = Pipeline(\n",
        "    steps=[('simp_imputer', SimpleImputer(strategy='most_frequent', fill_value='missing')),\n",
        "           ('onehot', OneHotEncoder(handle_unknown='ignore'))])\n",
        "numeric_cols = x_DF.drop(\"Store\", axis=1).select_dtypes(exclude=['object', 'datetime64']).columns\n",
        "category_cols = x_DF.select_dtypes(exclude=['int64', 'float64', 'datetime64']).columns\n",
        "preprocessor = ColumnTransformer(transformers=[(\n",
        "        'num_trans', numeric_transformer, numeric_cols), ('cat', categorical_transformer, category_cols)])\n",
        "processed_data = preprocessor.fit_transform(x_DF) # <class 'numpy.ndarray'>\n",
        "print(processed_data.shape)"
      ],
      "metadata": {
        "colab": {
          "base_uri": "https://localhost:8080/"
        },
        "id": "JEXzVPKdMoFc",
        "outputId": "1c8ac7f7-49f0-442f-e8b9-daea264ec6e0"
      },
      "execution_count": null,
      "outputs": [
        {
          "output_type": "stream",
          "name": "stdout",
          "text": [
            "(1017209, 967)\n"
          ]
        }
      ]
    },
    {
      "cell_type": "markdown",
      "source": [
        "# **COMPUTING FEATURE IMPORTANCE USING RANDOM FOREST REGRESSOR**"
      ],
      "metadata": {
        "id": "5hmh4M0tLqsm"
      }
    },
    {
      "cell_type": "code",
      "source": [
        "from sklearn.ensemble import RandomForestRegressor\n",
        "random_fr_reg = RandomForestRegressor(n_estimators=100, \n",
        "                            criterion='mse', max_depth=5, \n",
        "                            max_features='auto',\n",
        "                            n_jobs=4, random_state=31, ) \n",
        "fit_res = random_fr_reg.fit(processed_data,y_DF)\n",
        "importances = random_fr_reg.feature_importances_ \n",
        "# sort the importances in descending order - from most important to least important \n",
        "indices = np.argsort(importances)[::-1]\n",
        "# Print the feature ranking\n",
        "print(\"Feature ranking:\")\n",
        "for f in range(len(indices)):\n",
        "    print(\"%d. feature %d (%f)\" % (f + 1, indices[f], importances[indices[f]]))\n",
        "plt.figure()\n",
        "plt.title(\"Feature importances\")\n",
        "# rescaling the data\n",
        "plt.bar(range(1,10), importances[indices[range(1,10)]]) \n",
        "plt.xlim([-1, 10])\n",
        "plt.show()"
      ],
      "metadata": {
        "id": "zvdkFlRYUYXF",
        "colab": {
          "base_uri": "https://localhost:8080/",
          "height": 1000
        },
        "outputId": "2e53660f-1d1c-4414-aa56-b03b6f3edef9"
      },
      "execution_count": null,
      "outputs": [
        {
          "output_type": "stream",
          "name": "stdout",
          "text": [
            "Feature ranking:\n",
            "1. feature 7 (0.954775)\n",
            "2. feature 14 (0.025225)\n",
            "3. feature 16 (0.009314)\n",
            "4. feature 9 (0.006043)\n",
            "5. feature 12 (0.004640)\n",
            "6. feature 11 (0.000004)\n",
            "7. feature 0 (0.000001)\n",
            "8. feature 529 (0.000000)\n",
            "9. feature 5 (0.000000)\n",
            "10. feature 405 (0.000000)\n",
            "11. feature 1 (0.000000)\n",
            "12. feature 6 (0.000000)\n",
            "13. feature 2 (0.000000)\n",
            "14. feature 4 (0.000000)\n",
            "15. feature 326 (0.000000)\n",
            "16. feature 323 (0.000000)\n",
            "17. feature 324 (0.000000)\n",
            "18. feature 325 (0.000000)\n",
            "19. feature 328 (0.000000)\n",
            "20. feature 327 (0.000000)\n",
            "21. feature 329 (0.000000)\n",
            "22. feature 321 (0.000000)\n",
            "23. feature 332 (0.000000)\n",
            "24. feature 330 (0.000000)\n",
            "25. feature 331 (0.000000)\n",
            "26. feature 322 (0.000000)\n",
            "27. feature 315 (0.000000)\n",
            "28. feature 320 (0.000000)\n",
            "29. feature 319 (0.000000)\n",
            "30. feature 318 (0.000000)\n",
            "31. feature 317 (0.000000)\n",
            "32. feature 316 (0.000000)\n",
            "33. feature 334 (0.000000)\n",
            "34. feature 314 (0.000000)\n",
            "35. feature 313 (0.000000)\n",
            "36. feature 312 (0.000000)\n",
            "37. feature 311 (0.000000)\n",
            "38. feature 310 (0.000000)\n",
            "39. feature 309 (0.000000)\n",
            "40. feature 308 (0.000000)\n",
            "41. feature 333 (0.000000)\n",
            "42. feature 340 (0.000000)\n",
            "43. feature 335 (0.000000)\n",
            "44. feature 350 (0.000000)\n",
            "45. feature 362 (0.000000)\n",
            "46. feature 361 (0.000000)\n",
            "47. feature 360 (0.000000)\n",
            "48. feature 359 (0.000000)\n",
            "49. feature 358 (0.000000)\n",
            "50. feature 357 (0.000000)\n",
            "51. feature 356 (0.000000)\n",
            "52. feature 355 (0.000000)\n",
            "53. feature 354 (0.000000)\n",
            "54. feature 353 (0.000000)\n",
            "55. feature 352 (0.000000)\n",
            "56. feature 351 (0.000000)\n",
            "57. feature 349 (0.000000)\n",
            "58. feature 336 (0.000000)\n",
            "59. feature 348 (0.000000)\n",
            "60. feature 347 (0.000000)\n",
            "61. feature 346 (0.000000)\n",
            "62. feature 345 (0.000000)\n",
            "63. feature 344 (0.000000)\n",
            "64. feature 343 (0.000000)\n",
            "65. feature 342 (0.000000)\n",
            "66. feature 341 (0.000000)\n",
            "67. feature 306 (0.000000)\n",
            "68. feature 339 (0.000000)\n",
            "69. feature 338 (0.000000)\n",
            "70. feature 337 (0.000000)\n",
            "71. feature 307 (0.000000)\n",
            "72. feature 300 (0.000000)\n",
            "73. feature 305 (0.000000)\n",
            "74. feature 262 (0.000000)\n",
            "75. feature 274 (0.000000)\n",
            "76. feature 273 (0.000000)\n",
            "77. feature 272 (0.000000)\n",
            "78. feature 271 (0.000000)\n",
            "79. feature 270 (0.000000)\n",
            "80. feature 269 (0.000000)\n",
            "81. feature 268 (0.000000)\n",
            "82. feature 267 (0.000000)\n",
            "83. feature 266 (0.000000)\n",
            "84. feature 265 (0.000000)\n",
            "85. feature 264 (0.000000)\n",
            "86. feature 263 (0.000000)\n",
            "87. feature 261 (0.000000)\n",
            "88. feature 304 (0.000000)\n",
            "89. feature 260 (0.000000)\n",
            "90. feature 259 (0.000000)\n",
            "91. feature 258 (0.000000)\n",
            "92. feature 257 (0.000000)\n",
            "93. feature 256 (0.000000)\n",
            "94. feature 255 (0.000000)\n",
            "95. feature 254 (0.000000)\n",
            "96. feature 253 (0.000000)\n",
            "97. feature 252 (0.000000)\n",
            "98. feature 251 (0.000000)\n",
            "99. feature 250 (0.000000)\n",
            "100. feature 249 (0.000000)\n",
            "101. feature 275 (0.000000)\n",
            "102. feature 276 (0.000000)\n",
            "103. feature 277 (0.000000)\n",
            "104. feature 278 (0.000000)\n",
            "105. feature 303 (0.000000)\n",
            "106. feature 302 (0.000000)\n",
            "107. feature 301 (0.000000)\n",
            "108. feature 364 (0.000000)\n",
            "109. feature 299 (0.000000)\n",
            "110. feature 298 (0.000000)\n",
            "111. feature 297 (0.000000)\n",
            "112. feature 296 (0.000000)\n",
            "113. feature 295 (0.000000)\n",
            "114. feature 294 (0.000000)\n",
            "115. feature 293 (0.000000)\n",
            "116. feature 292 (0.000000)\n",
            "117. feature 291 (0.000000)\n",
            "118. feature 290 (0.000000)\n",
            "119. feature 289 (0.000000)\n",
            "120. feature 288 (0.000000)\n",
            "121. feature 287 (0.000000)\n",
            "122. feature 286 (0.000000)\n",
            "123. feature 285 (0.000000)\n",
            "124. feature 284 (0.000000)\n",
            "125. feature 283 (0.000000)\n",
            "126. feature 282 (0.000000)\n",
            "127. feature 281 (0.000000)\n",
            "128. feature 280 (0.000000)\n",
            "129. feature 279 (0.000000)\n",
            "130. feature 363 (0.000000)\n",
            "131. feature 371 (0.000000)\n",
            "132. feature 365 (0.000000)\n",
            "133. feature 439 (0.000000)\n",
            "134. feature 451 (0.000000)\n",
            "135. feature 450 (0.000000)\n",
            "136. feature 449 (0.000000)\n",
            "137. feature 448 (0.000000)\n",
            "138. feature 447 (0.000000)\n",
            "139. feature 446 (0.000000)\n",
            "140. feature 445 (0.000000)\n",
            "141. feature 444 (0.000000)\n",
            "142. feature 443 (0.000000)\n",
            "143. feature 442 (0.000000)\n",
            "144. feature 441 (0.000000)\n",
            "145. feature 440 (0.000000)\n",
            "146. feature 438 (0.000000)\n",
            "147. feature 366 (0.000000)\n",
            "148. feature 437 (0.000000)\n",
            "149. feature 436 (0.000000)\n",
            "150. feature 435 (0.000000)\n",
            "151. feature 434 (0.000000)\n",
            "152. feature 433 (0.000000)\n",
            "153. feature 432 (0.000000)\n",
            "154. feature 431 (0.000000)\n",
            "155. feature 430 (0.000000)\n",
            "156. feature 429 (0.000000)\n",
            "157. feature 428 (0.000000)\n",
            "158. feature 427 (0.000000)\n",
            "159. feature 426 (0.000000)\n",
            "160. feature 452 (0.000000)\n",
            "161. feature 453 (0.000000)\n",
            "162. feature 454 (0.000000)\n",
            "163. feature 455 (0.000000)\n",
            "164. feature 480 (0.000000)\n",
            "165. feature 479 (0.000000)\n",
            "166. feature 478 (0.000000)\n",
            "167. feature 477 (0.000000)\n",
            "168. feature 476 (0.000000)\n",
            "169. feature 475 (0.000000)\n",
            "170. feature 474 (0.000000)\n",
            "171. feature 473 (0.000000)\n",
            "172. feature 472 (0.000000)\n",
            "173. feature 471 (0.000000)\n",
            "174. feature 470 (0.000000)\n",
            "175. feature 469 (0.000000)\n",
            "176. feature 468 (0.000000)\n",
            "177. feature 467 (0.000000)\n",
            "178. feature 466 (0.000000)\n",
            "179. feature 465 (0.000000)\n",
            "180. feature 464 (0.000000)\n",
            "181. feature 463 (0.000000)\n",
            "182. feature 462 (0.000000)\n",
            "183. feature 461 (0.000000)\n",
            "184. feature 460 (0.000000)\n",
            "185. feature 459 (0.000000)\n",
            "186. feature 458 (0.000000)\n",
            "187. feature 457 (0.000000)\n",
            "188. feature 456 (0.000000)\n",
            "189. feature 425 (0.000000)\n",
            "190. feature 424 (0.000000)\n",
            "191. feature 423 (0.000000)\n",
            "192. feature 393 (0.000000)\n",
            "193. feature 391 (0.000000)\n",
            "194. feature 390 (0.000000)\n",
            "195. feature 389 (0.000000)\n",
            "196. feature 388 (0.000000)\n",
            "197. feature 387 (0.000000)\n",
            "198. feature 386 (0.000000)\n",
            "199. feature 385 (0.000000)\n",
            "200. feature 384 (0.000000)\n",
            "201. feature 383 (0.000000)\n",
            "202. feature 382 (0.000000)\n",
            "203. feature 381 (0.000000)\n",
            "204. feature 380 (0.000000)\n",
            "205. feature 379 (0.000000)\n",
            "206. feature 378 (0.000000)\n",
            "207. feature 377 (0.000000)\n",
            "208. feature 376 (0.000000)\n",
            "209. feature 375 (0.000000)\n",
            "210. feature 374 (0.000000)\n",
            "211. feature 373 (0.000000)\n",
            "212. feature 372 (0.000000)\n",
            "213. feature 247 (0.000000)\n",
            "214. feature 370 (0.000000)\n",
            "215. feature 369 (0.000000)\n",
            "216. feature 368 (0.000000)\n",
            "217. feature 367 (0.000000)\n",
            "218. feature 392 (0.000000)\n",
            "219. feature 394 (0.000000)\n",
            "220. feature 422 (0.000000)\n",
            "221. feature 395 (0.000000)\n",
            "222. feature 421 (0.000000)\n",
            "223. feature 420 (0.000000)\n",
            "224. feature 419 (0.000000)\n",
            "225. feature 418 (0.000000)\n",
            "226. feature 417 (0.000000)\n",
            "227. feature 416 (0.000000)\n",
            "228. feature 415 (0.000000)\n",
            "229. feature 414 (0.000000)\n",
            "230. feature 413 (0.000000)\n",
            "231. feature 412 (0.000000)\n",
            "232. feature 411 (0.000000)\n",
            "233. feature 410 (0.000000)\n",
            "234. feature 409 (0.000000)\n",
            "235. feature 408 (0.000000)\n",
            "236. feature 407 (0.000000)\n",
            "237. feature 406 (0.000000)\n",
            "238. feature 404 (0.000000)\n",
            "239. feature 403 (0.000000)\n",
            "240. feature 402 (0.000000)\n",
            "241. feature 401 (0.000000)\n",
            "242. feature 400 (0.000000)\n",
            "243. feature 399 (0.000000)\n",
            "244. feature 398 (0.000000)\n",
            "245. feature 397 (0.000000)\n",
            "246. feature 396 (0.000000)\n",
            "247. feature 248 (0.000000)\n",
            "248. feature 241 (0.000000)\n",
            "249. feature 246 (0.000000)\n",
            "250. feature 84 (0.000000)\n",
            "251. feature 96 (0.000000)\n",
            "252. feature 95 (0.000000)\n",
            "253. feature 94 (0.000000)\n",
            "254. feature 93 (0.000000)\n",
            "255. feature 92 (0.000000)\n",
            "256. feature 91 (0.000000)\n",
            "257. feature 90 (0.000000)\n",
            "258. feature 89 (0.000000)\n",
            "259. feature 88 (0.000000)\n",
            "260. feature 87 (0.000000)\n",
            "261. feature 86 (0.000000)\n",
            "262. feature 85 (0.000000)\n",
            "263. feature 83 (0.000000)\n",
            "264. feature 98 (0.000000)\n",
            "265. feature 82 (0.000000)\n",
            "266. feature 81 (0.000000)\n",
            "267. feature 80 (0.000000)\n",
            "268. feature 79 (0.000000)\n",
            "269. feature 78 (0.000000)\n",
            "270. feature 77 (0.000000)\n",
            "271. feature 76 (0.000000)\n",
            "272. feature 75 (0.000000)\n",
            "273. feature 74 (0.000000)\n",
            "274. feature 73 (0.000000)\n",
            "275. feature 72 (0.000000)\n",
            "276. feature 71 (0.000000)\n",
            "277. feature 97 (0.000000)\n",
            "278. feature 99 (0.000000)\n",
            "279. feature 245 (0.000000)\n",
            "280. feature 114 (0.000000)\n",
            "281. feature 126 (0.000000)\n",
            "282. feature 125 (0.000000)\n",
            "283. feature 124 (0.000000)\n",
            "284. feature 123 (0.000000)\n",
            "285. feature 122 (0.000000)\n",
            "286. feature 121 (0.000000)\n",
            "287. feature 120 (0.000000)\n",
            "288. feature 119 (0.000000)\n",
            "289. feature 118 (0.000000)\n",
            "290. feature 117 (0.000000)\n",
            "291. feature 116 (0.000000)\n",
            "292. feature 115 (0.000000)\n",
            "293. feature 113 (0.000000)\n",
            "294. feature 100 (0.000000)\n",
            "295. feature 112 (0.000000)\n",
            "296. feature 111 (0.000000)\n",
            "297. feature 110 (0.000000)\n",
            "298. feature 109 (0.000000)\n",
            "299. feature 108 (0.000000)\n",
            "300. feature 107 (0.000000)\n",
            "301. feature 106 (0.000000)\n",
            "302. feature 105 (0.000000)\n",
            "303. feature 104 (0.000000)\n",
            "304. feature 103 (0.000000)\n",
            "305. feature 102 (0.000000)\n",
            "306. feature 101 (0.000000)\n",
            "307. feature 70 (0.000000)\n",
            "308. feature 69 (0.000000)\n",
            "309. feature 68 (0.000000)\n",
            "310. feature 25 (0.000000)\n",
            "311. feature 37 (0.000000)\n",
            "312. feature 36 (0.000000)\n",
            "313. feature 35 (0.000000)\n",
            "314. feature 34 (0.000000)\n",
            "315. feature 33 (0.000000)\n",
            "316. feature 32 (0.000000)\n",
            "317. feature 31 (0.000000)\n",
            "318. feature 30 (0.000000)\n",
            "319. feature 29 (0.000000)\n",
            "320. feature 28 (0.000000)\n",
            "321. feature 27 (0.000000)\n",
            "322. feature 26 (0.000000)\n",
            "323. feature 24 (0.000000)\n",
            "324. feature 67 (0.000000)\n",
            "325. feature 23 (0.000000)\n",
            "326. feature 22 (0.000000)\n",
            "327. feature 21 (0.000000)\n",
            "328. feature 20 (0.000000)\n",
            "329. feature 19 (0.000000)\n",
            "330. feature 18 (0.000000)\n",
            "331. feature 17 (0.000000)\n",
            "332. feature 15 (0.000000)\n",
            "333. feature 13 (0.000000)\n",
            "334. feature 10 (0.000000)\n",
            "335. feature 8 (0.000000)\n",
            "336. feature 3 (0.000000)\n",
            "337. feature 38 (0.000000)\n",
            "338. feature 39 (0.000000)\n",
            "339. feature 40 (0.000000)\n",
            "340. feature 41 (0.000000)\n",
            "341. feature 66 (0.000000)\n",
            "342. feature 65 (0.000000)\n",
            "343. feature 64 (0.000000)\n",
            "344. feature 63 (0.000000)\n",
            "345. feature 62 (0.000000)\n",
            "346. feature 61 (0.000000)\n",
            "347. feature 60 (0.000000)\n",
            "348. feature 59 (0.000000)\n",
            "349. feature 58 (0.000000)\n",
            "350. feature 57 (0.000000)\n",
            "351. feature 56 (0.000000)\n",
            "352. feature 55 (0.000000)\n",
            "353. feature 54 (0.000000)\n",
            "354. feature 53 (0.000000)\n",
            "355. feature 52 (0.000000)\n",
            "356. feature 51 (0.000000)\n",
            "357. feature 50 (0.000000)\n",
            "358. feature 49 (0.000000)\n",
            "359. feature 48 (0.000000)\n",
            "360. feature 47 (0.000000)\n",
            "361. feature 46 (0.000000)\n",
            "362. feature 45 (0.000000)\n",
            "363. feature 44 (0.000000)\n",
            "364. feature 43 (0.000000)\n",
            "365. feature 42 (0.000000)\n",
            "366. feature 127 (0.000000)\n",
            "367. feature 128 (0.000000)\n",
            "368. feature 129 (0.000000)\n",
            "369. feature 203 (0.000000)\n",
            "370. feature 215 (0.000000)\n",
            "371. feature 214 (0.000000)\n",
            "372. feature 213 (0.000000)\n",
            "373. feature 212 (0.000000)\n",
            "374. feature 211 (0.000000)\n",
            "375. feature 210 (0.000000)\n",
            "376. feature 209 (0.000000)\n",
            "377. feature 208 (0.000000)\n",
            "378. feature 207 (0.000000)\n",
            "379. feature 206 (0.000000)\n",
            "380. feature 205 (0.000000)\n",
            "381. feature 204 (0.000000)\n",
            "382. feature 202 (0.000000)\n",
            "383. feature 188 (0.000000)\n",
            "384. feature 201 (0.000000)\n",
            "385. feature 200 (0.000000)\n",
            "386. feature 199 (0.000000)\n",
            "387. feature 198 (0.000000)\n",
            "388. feature 197 (0.000000)\n",
            "389. feature 196 (0.000000)\n",
            "390. feature 195 (0.000000)\n",
            "391. feature 194 (0.000000)\n",
            "392. feature 193 (0.000000)\n",
            "393. feature 192 (0.000000)\n",
            "394. feature 191 (0.000000)\n",
            "395. feature 190 (0.000000)\n",
            "396. feature 216 (0.000000)\n",
            "397. feature 217 (0.000000)\n",
            "398. feature 218 (0.000000)\n",
            "399. feature 219 (0.000000)\n",
            "400. feature 244 (0.000000)\n",
            "401. feature 243 (0.000000)\n",
            "402. feature 242 (0.000000)\n",
            "403. feature 482 (0.000000)\n",
            "404. feature 240 (0.000000)\n",
            "405. feature 239 (0.000000)\n",
            "406. feature 238 (0.000000)\n",
            "407. feature 237 (0.000000)\n",
            "408. feature 236 (0.000000)\n",
            "409. feature 235 (0.000000)\n",
            "410. feature 234 (0.000000)\n",
            "411. feature 233 (0.000000)\n",
            "412. feature 232 (0.000000)\n",
            "413. feature 231 (0.000000)\n",
            "414. feature 230 (0.000000)\n",
            "415. feature 229 (0.000000)\n",
            "416. feature 228 (0.000000)\n",
            "417. feature 227 (0.000000)\n",
            "418. feature 226 (0.000000)\n",
            "419. feature 225 (0.000000)\n",
            "420. feature 224 (0.000000)\n",
            "421. feature 223 (0.000000)\n",
            "422. feature 222 (0.000000)\n",
            "423. feature 221 (0.000000)\n",
            "424. feature 220 (0.000000)\n",
            "425. feature 189 (0.000000)\n",
            "426. feature 187 (0.000000)\n",
            "427. feature 130 (0.000000)\n",
            "428. feature 144 (0.000000)\n",
            "429. feature 156 (0.000000)\n",
            "430. feature 155 (0.000000)\n",
            "431. feature 154 (0.000000)\n",
            "432. feature 153 (0.000000)\n",
            "433. feature 152 (0.000000)\n",
            "434. feature 151 (0.000000)\n",
            "435. feature 150 (0.000000)\n",
            "436. feature 149 (0.000000)\n",
            "437. feature 148 (0.000000)\n",
            "438. feature 147 (0.000000)\n",
            "439. feature 146 (0.000000)\n",
            "440. feature 145 (0.000000)\n",
            "441. feature 143 (0.000000)\n",
            "442. feature 186 (0.000000)\n",
            "443. feature 142 (0.000000)\n",
            "444. feature 141 (0.000000)\n",
            "445. feature 140 (0.000000)\n",
            "446. feature 139 (0.000000)\n",
            "447. feature 138 (0.000000)\n",
            "448. feature 137 (0.000000)\n",
            "449. feature 136 (0.000000)\n",
            "450. feature 135 (0.000000)\n",
            "451. feature 134 (0.000000)\n",
            "452. feature 133 (0.000000)\n",
            "453. feature 132 (0.000000)\n",
            "454. feature 131 (0.000000)\n",
            "455. feature 157 (0.000000)\n",
            "456. feature 158 (0.000000)\n",
            "457. feature 159 (0.000000)\n",
            "458. feature 160 (0.000000)\n",
            "459. feature 185 (0.000000)\n",
            "460. feature 184 (0.000000)\n",
            "461. feature 183 (0.000000)\n",
            "462. feature 182 (0.000000)\n",
            "463. feature 181 (0.000000)\n",
            "464. feature 180 (0.000000)\n",
            "465. feature 179 (0.000000)\n",
            "466. feature 178 (0.000000)\n",
            "467. feature 177 (0.000000)\n",
            "468. feature 176 (0.000000)\n",
            "469. feature 175 (0.000000)\n",
            "470. feature 174 (0.000000)\n",
            "471. feature 173 (0.000000)\n",
            "472. feature 172 (0.000000)\n",
            "473. feature 171 (0.000000)\n",
            "474. feature 170 (0.000000)\n",
            "475. feature 169 (0.000000)\n",
            "476. feature 168 (0.000000)\n",
            "477. feature 167 (0.000000)\n",
            "478. feature 166 (0.000000)\n",
            "479. feature 165 (0.000000)\n",
            "480. feature 164 (0.000000)\n",
            "481. feature 163 (0.000000)\n",
            "482. feature 162 (0.000000)\n",
            "483. feature 161 (0.000000)\n",
            "484. feature 481 (0.000000)\n",
            "485. feature 966 (0.000000)\n",
            "486. feature 965 (0.000000)\n",
            "487. feature 845 (0.000000)\n",
            "488. feature 813 (0.000000)\n",
            "489. feature 812 (0.000000)\n",
            "490. feature 811 (0.000000)\n",
            "491. feature 810 (0.000000)\n",
            "492. feature 809 (0.000000)\n",
            "493. feature 808 (0.000000)\n",
            "494. feature 807 (0.000000)\n",
            "495. feature 806 (0.000000)\n",
            "496. feature 805 (0.000000)\n",
            "497. feature 804 (0.000000)\n",
            "498. feature 803 (0.000000)\n",
            "499. feature 802 (0.000000)\n",
            "500. feature 801 (0.000000)\n",
            "501. feature 800 (0.000000)\n",
            "502. feature 799 (0.000000)\n",
            "503. feature 798 (0.000000)\n",
            "504. feature 797 (0.000000)\n",
            "505. feature 796 (0.000000)\n",
            "506. feature 795 (0.000000)\n",
            "507. feature 794 (0.000000)\n",
            "508. feature 793 (0.000000)\n",
            "509. feature 792 (0.000000)\n",
            "510. feature 791 (0.000000)\n",
            "511. feature 790 (0.000000)\n",
            "512. feature 789 (0.000000)\n",
            "513. feature 788 (0.000000)\n",
            "514. feature 787 (0.000000)\n",
            "515. feature 814 (0.000000)\n",
            "516. feature 815 (0.000000)\n",
            "517. feature 816 (0.000000)\n",
            "518. feature 831 (0.000000)\n",
            "519. feature 843 (0.000000)\n",
            "520. feature 842 (0.000000)\n",
            "521. feature 841 (0.000000)\n",
            "522. feature 840 (0.000000)\n",
            "523. feature 839 (0.000000)\n",
            "524. feature 838 (0.000000)\n",
            "525. feature 837 (0.000000)\n",
            "526. feature 836 (0.000000)\n",
            "527. feature 835 (0.000000)\n",
            "528. feature 834 (0.000000)\n",
            "529. feature 833 (0.000000)\n",
            "530. feature 832 (0.000000)\n",
            "531. feature 830 (0.000000)\n",
            "532. feature 817 (0.000000)\n",
            "533. feature 829 (0.000000)\n",
            "534. feature 828 (0.000000)\n",
            "535. feature 827 (0.000000)\n",
            "536. feature 826 (0.000000)\n",
            "537. feature 825 (0.000000)\n",
            "538. feature 824 (0.000000)\n",
            "539. feature 823 (0.000000)\n",
            "540. feature 822 (0.000000)\n",
            "541. feature 821 (0.000000)\n",
            "542. feature 820 (0.000000)\n",
            "543. feature 819 (0.000000)\n",
            "544. feature 818 (0.000000)\n",
            "545. feature 786 (0.000000)\n",
            "546. feature 785 (0.000000)\n",
            "547. feature 784 (0.000000)\n",
            "548. feature 740 (0.000000)\n",
            "549. feature 752 (0.000000)\n",
            "550. feature 751 (0.000000)\n",
            "551. feature 750 (0.000000)\n",
            "552. feature 749 (0.000000)\n",
            "553. feature 748 (0.000000)\n",
            "554. feature 747 (0.000000)\n",
            "555. feature 746 (0.000000)\n",
            "556. feature 745 (0.000000)\n",
            "557. feature 744 (0.000000)\n",
            "558. feature 743 (0.000000)\n",
            "559. feature 742 (0.000000)\n",
            "560. feature 741 (0.000000)\n",
            "561. feature 739 (0.000000)\n",
            "562. feature 754 (0.000000)\n",
            "563. feature 738 (0.000000)\n",
            "564. feature 737 (0.000000)\n",
            "565. feature 736 (0.000000)\n",
            "566. feature 735 (0.000000)\n",
            "567. feature 734 (0.000000)\n",
            "568. feature 733 (0.000000)\n",
            "569. feature 732 (0.000000)\n",
            "570. feature 731 (0.000000)\n",
            "571. feature 730 (0.000000)\n",
            "572. feature 729 (0.000000)\n",
            "573. feature 728 (0.000000)\n",
            "574. feature 727 (0.000000)\n",
            "575. feature 753 (0.000000)\n",
            "576. feature 755 (0.000000)\n",
            "577. feature 783 (0.000000)\n",
            "578. feature 770 (0.000000)\n",
            "579. feature 782 (0.000000)\n",
            "580. feature 781 (0.000000)\n",
            "581. feature 780 (0.000000)\n",
            "582. feature 779 (0.000000)\n",
            "583. feature 778 (0.000000)\n",
            "584. feature 777 (0.000000)\n",
            "585. feature 776 (0.000000)\n",
            "586. feature 775 (0.000000)\n",
            "587. feature 774 (0.000000)\n",
            "588. feature 773 (0.000000)\n",
            "589. feature 772 (0.000000)\n",
            "590. feature 771 (0.000000)\n",
            "591. feature 769 (0.000000)\n",
            "592. feature 756 (0.000000)\n",
            "593. feature 768 (0.000000)\n",
            "594. feature 767 (0.000000)\n",
            "595. feature 766 (0.000000)\n",
            "596. feature 765 (0.000000)\n",
            "597. feature 764 (0.000000)\n",
            "598. feature 763 (0.000000)\n",
            "599. feature 762 (0.000000)\n",
            "600. feature 761 (0.000000)\n",
            "601. feature 760 (0.000000)\n",
            "602. feature 759 (0.000000)\n",
            "603. feature 758 (0.000000)\n",
            "604. feature 757 (0.000000)\n",
            "605. feature 844 (0.000000)\n",
            "606. feature 846 (0.000000)\n",
            "607. feature 484 (0.000000)\n",
            "608. feature 847 (0.000000)\n",
            "609. feature 934 (0.000000)\n",
            "610. feature 933 (0.000000)\n",
            "611. feature 932 (0.000000)\n",
            "612. feature 931 (0.000000)\n",
            "613. feature 930 (0.000000)\n",
            "614. feature 929 (0.000000)\n",
            "615. feature 928 (0.000000)\n",
            "616. feature 927 (0.000000)\n",
            "617. feature 926 (0.000000)\n",
            "618. feature 925 (0.000000)\n",
            "619. feature 924 (0.000000)\n",
            "620. feature 923 (0.000000)\n",
            "621. feature 922 (0.000000)\n",
            "622. feature 921 (0.000000)\n",
            "623. feature 920 (0.000000)\n",
            "624. feature 919 (0.000000)\n",
            "625. feature 918 (0.000000)\n",
            "626. feature 917 (0.000000)\n",
            "627. feature 916 (0.000000)\n",
            "628. feature 915 (0.000000)\n",
            "629. feature 914 (0.000000)\n",
            "630. feature 913 (0.000000)\n",
            "631. feature 912 (0.000000)\n",
            "632. feature 911 (0.000000)\n",
            "633. feature 910 (0.000000)\n",
            "634. feature 909 (0.000000)\n",
            "635. feature 908 (0.000000)\n",
            "636. feature 935 (0.000000)\n",
            "637. feature 936 (0.000000)\n",
            "638. feature 937 (0.000000)\n",
            "639. feature 952 (0.000000)\n",
            "640. feature 964 (0.000000)\n",
            "641. feature 963 (0.000000)\n",
            "642. feature 962 (0.000000)\n",
            "643. feature 961 (0.000000)\n",
            "644. feature 960 (0.000000)\n",
            "645. feature 959 (0.000000)\n",
            "646. feature 958 (0.000000)\n",
            "647. feature 957 (0.000000)\n",
            "648. feature 956 (0.000000)\n",
            "649. feature 955 (0.000000)\n",
            "650. feature 954 (0.000000)\n",
            "651. feature 953 (0.000000)\n",
            "652. feature 951 (0.000000)\n",
            "653. feature 938 (0.000000)\n",
            "654. feature 950 (0.000000)\n",
            "655. feature 949 (0.000000)\n",
            "656. feature 948 (0.000000)\n",
            "657. feature 947 (0.000000)\n",
            "658. feature 946 (0.000000)\n",
            "659. feature 945 (0.000000)\n",
            "660. feature 944 (0.000000)\n",
            "661. feature 943 (0.000000)\n",
            "662. feature 942 (0.000000)\n",
            "663. feature 941 (0.000000)\n",
            "664. feature 940 (0.000000)\n",
            "665. feature 939 (0.000000)\n",
            "666. feature 907 (0.000000)\n",
            "667. feature 906 (0.000000)\n",
            "668. feature 905 (0.000000)\n",
            "669. feature 861 (0.000000)\n",
            "670. feature 873 (0.000000)\n",
            "671. feature 872 (0.000000)\n",
            "672. feature 871 (0.000000)\n",
            "673. feature 870 (0.000000)\n",
            "674. feature 869 (0.000000)\n",
            "675. feature 868 (0.000000)\n",
            "676. feature 867 (0.000000)\n",
            "677. feature 866 (0.000000)\n",
            "678. feature 865 (0.000000)\n",
            "679. feature 864 (0.000000)\n",
            "680. feature 863 (0.000000)\n",
            "681. feature 862 (0.000000)\n",
            "682. feature 860 (0.000000)\n",
            "683. feature 875 (0.000000)\n",
            "684. feature 859 (0.000000)\n",
            "685. feature 858 (0.000000)\n",
            "686. feature 857 (0.000000)\n",
            "687. feature 856 (0.000000)\n",
            "688. feature 855 (0.000000)\n",
            "689. feature 854 (0.000000)\n",
            "690. feature 853 (0.000000)\n",
            "691. feature 852 (0.000000)\n",
            "692. feature 851 (0.000000)\n",
            "693. feature 850 (0.000000)\n",
            "694. feature 849 (0.000000)\n",
            "695. feature 848 (0.000000)\n",
            "696. feature 874 (0.000000)\n",
            "697. feature 876 (0.000000)\n",
            "698. feature 904 (0.000000)\n",
            "699. feature 891 (0.000000)\n",
            "700. feature 903 (0.000000)\n",
            "701. feature 902 (0.000000)\n",
            "702. feature 901 (0.000000)\n",
            "703. feature 900 (0.000000)\n",
            "704. feature 899 (0.000000)\n",
            "705. feature 898 (0.000000)\n",
            "706. feature 897 (0.000000)\n",
            "707. feature 896 (0.000000)\n",
            "708. feature 895 (0.000000)\n",
            "709. feature 894 (0.000000)\n",
            "710. feature 893 (0.000000)\n",
            "711. feature 892 (0.000000)\n",
            "712. feature 890 (0.000000)\n",
            "713. feature 877 (0.000000)\n",
            "714. feature 889 (0.000000)\n",
            "715. feature 888 (0.000000)\n",
            "716. feature 887 (0.000000)\n",
            "717. feature 886 (0.000000)\n",
            "718. feature 885 (0.000000)\n",
            "719. feature 884 (0.000000)\n",
            "720. feature 883 (0.000000)\n",
            "721. feature 882 (0.000000)\n",
            "722. feature 881 (0.000000)\n",
            "723. feature 880 (0.000000)\n",
            "724. feature 879 (0.000000)\n",
            "725. feature 878 (0.000000)\n",
            "726. feature 726 (0.000000)\n",
            "727. feature 725 (0.000000)\n",
            "728. feature 724 (0.000000)\n",
            "729. feature 723 (0.000000)\n",
            "730. feature 572 (0.000000)\n",
            "731. feature 571 (0.000000)\n",
            "732. feature 570 (0.000000)\n",
            "733. feature 569 (0.000000)\n",
            "734. feature 568 (0.000000)\n",
            "735. feature 567 (0.000000)\n",
            "736. feature 566 (0.000000)\n",
            "737. feature 565 (0.000000)\n",
            "738. feature 564 (0.000000)\n",
            "739. feature 563 (0.000000)\n",
            "740. feature 562 (0.000000)\n",
            "741. feature 561 (0.000000)\n",
            "742. feature 560 (0.000000)\n",
            "743. feature 559 (0.000000)\n",
            "744. feature 558 (0.000000)\n",
            "745. feature 557 (0.000000)\n",
            "746. feature 556 (0.000000)\n",
            "747. feature 555 (0.000000)\n",
            "748. feature 554 (0.000000)\n",
            "749. feature 553 (0.000000)\n",
            "750. feature 552 (0.000000)\n",
            "751. feature 551 (0.000000)\n",
            "752. feature 550 (0.000000)\n",
            "753. feature 549 (0.000000)\n",
            "754. feature 548 (0.000000)\n",
            "755. feature 547 (0.000000)\n",
            "756. feature 546 (0.000000)\n",
            "757. feature 573 (0.000000)\n",
            "758. feature 574 (0.000000)\n",
            "759. feature 575 (0.000000)\n",
            "760. feature 590 (0.000000)\n",
            "761. feature 602 (0.000000)\n",
            "762. feature 601 (0.000000)\n",
            "763. feature 600 (0.000000)\n",
            "764. feature 599 (0.000000)\n",
            "765. feature 598 (0.000000)\n",
            "766. feature 597 (0.000000)\n",
            "767. feature 596 (0.000000)\n",
            "768. feature 595 (0.000000)\n",
            "769. feature 594 (0.000000)\n",
            "770. feature 593 (0.000000)\n",
            "771. feature 592 (0.000000)\n",
            "772. feature 591 (0.000000)\n",
            "773. feature 589 (0.000000)\n",
            "774. feature 576 (0.000000)\n",
            "775. feature 588 (0.000000)\n",
            "776. feature 587 (0.000000)\n",
            "777. feature 586 (0.000000)\n",
            "778. feature 585 (0.000000)\n",
            "779. feature 584 (0.000000)\n",
            "780. feature 583 (0.000000)\n",
            "781. feature 582 (0.000000)\n",
            "782. feature 581 (0.000000)\n",
            "783. feature 580 (0.000000)\n",
            "784. feature 579 (0.000000)\n",
            "785. feature 578 (0.000000)\n",
            "786. feature 577 (0.000000)\n",
            "787. feature 545 (0.000000)\n",
            "788. feature 544 (0.000000)\n",
            "789. feature 543 (0.000000)\n",
            "790. feature 498 (0.000000)\n",
            "791. feature 510 (0.000000)\n",
            "792. feature 509 (0.000000)\n",
            "793. feature 508 (0.000000)\n",
            "794. feature 507 (0.000000)\n",
            "795. feature 506 (0.000000)\n",
            "796. feature 505 (0.000000)\n",
            "797. feature 504 (0.000000)\n",
            "798. feature 503 (0.000000)\n",
            "799. feature 502 (0.000000)\n",
            "800. feature 501 (0.000000)\n",
            "801. feature 500 (0.000000)\n",
            "802. feature 499 (0.000000)\n",
            "803. feature 497 (0.000000)\n",
            "804. feature 512 (0.000000)\n",
            "805. feature 496 (0.000000)\n",
            "806. feature 495 (0.000000)\n",
            "807. feature 494 (0.000000)\n",
            "808. feature 493 (0.000000)\n",
            "809. feature 492 (0.000000)\n",
            "810. feature 491 (0.000000)\n",
            "811. feature 490 (0.000000)\n",
            "812. feature 489 (0.000000)\n",
            "813. feature 488 (0.000000)\n",
            "814. feature 487 (0.000000)\n",
            "815. feature 486 (0.000000)\n",
            "816. feature 485 (0.000000)\n",
            "817. feature 511 (0.000000)\n",
            "818. feature 513 (0.000000)\n",
            "819. feature 542 (0.000000)\n",
            "820. feature 528 (0.000000)\n",
            "821. feature 541 (0.000000)\n",
            "822. feature 540 (0.000000)\n",
            "823. feature 539 (0.000000)\n",
            "824. feature 538 (0.000000)\n",
            "825. feature 537 (0.000000)\n",
            "826. feature 536 (0.000000)\n",
            "827. feature 535 (0.000000)\n",
            "828. feature 534 (0.000000)\n",
            "829. feature 533 (0.000000)\n",
            "830. feature 532 (0.000000)\n",
            "831. feature 531 (0.000000)\n",
            "832. feature 530 (0.000000)\n",
            "833. feature 527 (0.000000)\n",
            "834. feature 514 (0.000000)\n",
            "835. feature 526 (0.000000)\n",
            "836. feature 525 (0.000000)\n",
            "837. feature 524 (0.000000)\n",
            "838. feature 523 (0.000000)\n",
            "839. feature 522 (0.000000)\n",
            "840. feature 521 (0.000000)\n",
            "841. feature 520 (0.000000)\n",
            "842. feature 519 (0.000000)\n",
            "843. feature 518 (0.000000)\n",
            "844. feature 517 (0.000000)\n",
            "845. feature 516 (0.000000)\n",
            "846. feature 515 (0.000000)\n",
            "847. feature 603 (0.000000)\n",
            "848. feature 604 (0.000000)\n",
            "849. feature 605 (0.000000)\n",
            "850. feature 680 (0.000000)\n",
            "851. feature 692 (0.000000)\n",
            "852. feature 691 (0.000000)\n",
            "853. feature 690 (0.000000)\n",
            "854. feature 689 (0.000000)\n",
            "855. feature 688 (0.000000)\n",
            "856. feature 687 (0.000000)\n",
            "857. feature 686 (0.000000)\n",
            "858. feature 685 (0.000000)\n",
            "859. feature 684 (0.000000)\n",
            "860. feature 683 (0.000000)\n",
            "861. feature 682 (0.000000)\n",
            "862. feature 681 (0.000000)\n",
            "863. feature 679 (0.000000)\n",
            "864. feature 694 (0.000000)\n",
            "865. feature 678 (0.000000)\n",
            "866. feature 677 (0.000000)\n",
            "867. feature 676 (0.000000)\n",
            "868. feature 675 (0.000000)\n",
            "869. feature 674 (0.000000)\n",
            "870. feature 673 (0.000000)\n",
            "871. feature 672 (0.000000)\n",
            "872. feature 671 (0.000000)\n",
            "873. feature 670 (0.000000)\n",
            "874. feature 669 (0.000000)\n",
            "875. feature 668 (0.000000)\n",
            "876. feature 667 (0.000000)\n",
            "877. feature 693 (0.000000)\n",
            "878. feature 695 (0.000000)\n",
            "879. feature 665 (0.000000)\n",
            "880. feature 710 (0.000000)\n",
            "881. feature 722 (0.000000)\n",
            "882. feature 721 (0.000000)\n",
            "883. feature 720 (0.000000)\n",
            "884. feature 719 (0.000000)\n",
            "885. feature 718 (0.000000)\n",
            "886. feature 717 (0.000000)\n",
            "887. feature 716 (0.000000)\n",
            "888. feature 715 (0.000000)\n",
            "889. feature 714 (0.000000)\n",
            "890. feature 713 (0.000000)\n",
            "891. feature 712 (0.000000)\n",
            "892. feature 711 (0.000000)\n",
            "893. feature 709 (0.000000)\n",
            "894. feature 696 (0.000000)\n",
            "895. feature 708 (0.000000)\n",
            "896. feature 707 (0.000000)\n",
            "897. feature 706 (0.000000)\n",
            "898. feature 705 (0.000000)\n",
            "899. feature 704 (0.000000)\n",
            "900. feature 703 (0.000000)\n",
            "901. feature 702 (0.000000)\n",
            "902. feature 701 (0.000000)\n",
            "903. feature 700 (0.000000)\n",
            "904. feature 699 (0.000000)\n",
            "905. feature 698 (0.000000)\n",
            "906. feature 697 (0.000000)\n",
            "907. feature 666 (0.000000)\n",
            "908. feature 664 (0.000000)\n",
            "909. feature 606 (0.000000)\n",
            "910. feature 620 (0.000000)\n",
            "911. feature 632 (0.000000)\n",
            "912. feature 631 (0.000000)\n",
            "913. feature 630 (0.000000)\n",
            "914. feature 629 (0.000000)\n",
            "915. feature 628 (0.000000)\n",
            "916. feature 627 (0.000000)\n",
            "917. feature 626 (0.000000)\n",
            "918. feature 625 (0.000000)\n",
            "919. feature 624 (0.000000)\n",
            "920. feature 623 (0.000000)\n",
            "921. feature 622 (0.000000)\n",
            "922. feature 621 (0.000000)\n",
            "923. feature 619 (0.000000)\n",
            "924. feature 634 (0.000000)\n",
            "925. feature 618 (0.000000)\n",
            "926. feature 617 (0.000000)\n",
            "927. feature 616 (0.000000)\n",
            "928. feature 615 (0.000000)\n",
            "929. feature 614 (0.000000)\n",
            "930. feature 613 (0.000000)\n",
            "931. feature 612 (0.000000)\n",
            "932. feature 611 (0.000000)\n",
            "933. feature 610 (0.000000)\n",
            "934. feature 609 (0.000000)\n",
            "935. feature 608 (0.000000)\n",
            "936. feature 607 (0.000000)\n",
            "937. feature 633 (0.000000)\n",
            "938. feature 635 (0.000000)\n",
            "939. feature 663 (0.000000)\n",
            "940. feature 650 (0.000000)\n",
            "941. feature 662 (0.000000)\n",
            "942. feature 661 (0.000000)\n",
            "943. feature 660 (0.000000)\n",
            "944. feature 659 (0.000000)\n",
            "945. feature 658 (0.000000)\n",
            "946. feature 657 (0.000000)\n",
            "947. feature 656 (0.000000)\n",
            "948. feature 655 (0.000000)\n",
            "949. feature 654 (0.000000)\n",
            "950. feature 653 (0.000000)\n",
            "951. feature 652 (0.000000)\n",
            "952. feature 651 (0.000000)\n",
            "953. feature 649 (0.000000)\n",
            "954. feature 636 (0.000000)\n",
            "955. feature 648 (0.000000)\n",
            "956. feature 647 (0.000000)\n",
            "957. feature 646 (0.000000)\n",
            "958. feature 645 (0.000000)\n",
            "959. feature 644 (0.000000)\n",
            "960. feature 643 (0.000000)\n",
            "961. feature 642 (0.000000)\n",
            "962. feature 641 (0.000000)\n",
            "963. feature 640 (0.000000)\n",
            "964. feature 639 (0.000000)\n",
            "965. feature 638 (0.000000)\n",
            "966. feature 637 (0.000000)\n",
            "967. feature 483 (0.000000)\n"
          ]
        },
        {
          "output_type": "display_data",
          "data": {
            "text/plain": [
              "<Figure size 432x288 with 1 Axes>"
            ],
            "image/png": "[encoded data removed]"
          },
          "metadata": {
            "needs_background": "light"
          }
        }
      ]
    },
    {
      "cell_type": "markdown",
      "source": [
        "# **Filling NaN values using bfill()**"
      ],
      "metadata": {
        "id": "l6GUyMql11f9"
      }
    },
    {
      "cell_type": "code",
      "source": [
        "# fill missing values along rows using backward fill\n",
        "merged_sales_test.drop([\"Store\",\"Id\"], axis=1).bfill(axis = 'rows').isnull().sum()\n",
        "test_full = merged_sales_test.drop([\"Store\",\"Id\"], axis=1).bfill(axis = 'rows').dropna()\n",
        "print(test_full.shape)"
      ],
      "metadata": {
        "colab": {
          "base_uri": "https://localhost:8080/"
        },
        "id": "KoNJdjgp2Nm4",
        "outputId": "a5aabf8b-6019-4a2d-8b87-07281e641231"
      },
      "execution_count": null,
      "outputs": [
        {
          "output_type": "stream",
          "name": "stdout",
          "text": [
            "(41203, 15)\n"
          ]
        }
      ]
    },
    {
      "cell_type": "code",
      "source": [
        "numeric_cols_test = test_full.select_dtypes(exclude=['object', 'datetime64']).columns\n",
        "category_cols_test = test_full.select_dtypes(exclude=['int64', 'float64', 'datetime64']).columns\n",
        "# only perform scaling of the data\n",
        "numeric_test_transformer = Pipeline(steps=[('scaler', StandardScaler())])\n",
        "test_preprocessor = ColumnTransformer(transformers=[\n",
        "    ('cat', categorical_transformer, category_cols_test),\n",
        "    ('num_trans', numeric_test_transformer, numeric_cols_test)]) \n",
        "processed_test_data = test_preprocessor.fit_transform(test_full)\n",
        "print(processed_test_data.shape)"
      ],
      "metadata": {
        "colab": {
          "base_uri": "https://localhost:8080/"
        },
        "id": "HcGLwm2P1pMp",
        "outputId": "47663ce9-32d3-4ac1-aadf-c090f776c541"
      },
      "execution_count": null,
      "outputs": [
        {
          "output_type": "stream",
          "name": "stdout",
          "text": [
            "(41203, 70)\n"
          ]
        }
      ]
    },
    {
      "cell_type": "markdown",
      "source": [
        "# **PREDICTION USING RANDOM FOREST REGRESSOR**"
      ],
      "metadata": {
        "id": "fP9LEbnPFDgJ"
      }
    },
    {
      "cell_type": "code",
      "source": [
        "# generating sales values for the training dataset\n",
        "sales_predictions = random_fr_reg.predict(processed_data)\n",
        "print(sales_predictions.shape)"
      ],
      "metadata": {
        "colab": {
          "base_uri": "https://localhost:8080/"
        },
        "id": "pkUEO3BMlW6l",
        "outputId": "5b8289b5-bb78-4124-d6e0-d5c6c0803dfa"
      },
      "execution_count": null,
      "outputs": [
        {
          "output_type": "stream",
          "name": "stdout",
          "text": [
            "(1017209,)\n"
          ]
        }
      ]
    },
    {
      "cell_type": "markdown",
      "source": [
        "# **Metrics**"
      ],
      "metadata": {
        "id": "Th6_q2nmQ1dN"
      }
    },
    {
      "cell_type": "code",
      "source": [
        "# Calculate the absolute errors\n",
        "errors = abs(sales_predictions - y_DF)\n",
        "# Print out the mean absolute error (mae)\n",
        "mae = round(np.mean(errors), 2)\n",
        "print('Mean Absolute Error:', '$',mae)"
      ],
      "metadata": {
        "colab": {
          "base_uri": "https://localhost:8080/"
        },
        "id": "Ni68_k8aIaMn",
        "outputId": "319ec799-9067-441e-9051-c9cf9ac969ea"
      },
      "execution_count": null,
      "outputs": [
        {
          "output_type": "stream",
          "name": "stdout",
          "text": [
            "Mean Absolute Error: $ 876.44\n"
          ]
        }
      ]
    },
    {
      "cell_type": "code",
      "source": [
        "print(f\"The average sales for each day is $ {round(np.mean(merged_train_dataset.groupby('Date').sum()['Sales']),2)}\")"
      ],
      "metadata": {
        "colab": {
          "base_uri": "https://localhost:8080/"
        },
        "id": "5WKWglbybeeF",
        "outputId": "c7d67676-bcd7-41c2-b557-b8fa34a85b14"
      },
      "execution_count": null,
      "outputs": [
        {
          "output_type": "stream",
          "name": "stdout",
          "text": [
            "The average sales for each day is $ 6234798.96\n"
          ]
        }
      ]
    },
    {
      "cell_type": "code",
      "source": [
        "!pip install forestci"
      ],
      "metadata": {
        "colab": {
          "base_uri": "https://localhost:8080/"
        },
        "id": "prWdlRuOQxly",
        "outputId": "d2cdf6a5-5828-44a4-8a1b-dd0a12f9040c"
      },
      "execution_count": null,
      "outputs": [
        {
          "output_type": "stream",
          "name": "stdout",
          "text": [
            "Looking in indexes: https://pypi.org/simple, https://us-python.pkg.dev/colab-wheels/public/simple/\n",
            "Collecting forestci\n",
            "  Downloading forestci-0.6-py3-none-any.whl (12 kB)\n",
            "Requirement already satisfied: numpy>=1.20 in /usr/local/lib/python3.7/dist-packages (from forestci) (1.21.6)\n",
            "Requirement already satisfied: scikit-learn>=0.23.1 in /usr/local/lib/python3.7/dist-packages (from forestci) (1.0.2)\n",
            "Requirement already satisfied: threadpoolctl>=2.0.0 in /usr/local/lib/python3.7/dist-packages (from scikit-learn>=0.23.1->forestci) (3.1.0)\n",
            "Requirement already satisfied: joblib>=0.11 in /usr/local/lib/python3.7/dist-packages (from scikit-learn>=0.23.1->forestci) (1.1.0)\n",
            "Requirement already satisfied: scipy>=1.1.0 in /usr/local/lib/python3.7/dist-packages (from scikit-learn>=0.23.1->forestci) (1.7.3)\n",
            "Installing collected packages: forestci\n",
            "Successfully installed forestci-0.6\n"
          ]
        }
      ]
    },
    {
      "cell_type": "code",
      "source": [
        "from forestci import random_forest_error\n",
        "rf_error =random_forest_error(random_fr_reg, processed_data, processed_test_data, inbag=None,\n",
        "                               calibrate=True, memory_constrained=False, memory_limit=None)\n",
        "print(rf_error)"
      ],
      "metadata": {
        "colab": {
          "base_uri": "https://localhost:8080/",
          "height": 363
        },
        "id": "Qf8pCa5IWsjN",
        "outputId": "1f946772-92c8-4371-a3c7-1ea7af925e05"
      },
      "execution_count": null,
      "outputs": [
        {
          "output_type": "error",
          "ename": "ValueError",
          "evalue": "ignored",
          "traceback": [
            "\u001b[0;31m---------------------------------------------------------------------------\u001b[0m",
            "\u001b[0;31mValueError\u001b[0m                                Traceback (most recent call last)",
            "\u001b[0;32m<ipython-input-138-64efe55eabcb>\u001b[0m in \u001b[0;36m<module>\u001b[0;34m\u001b[0m\n\u001b[1;32m      1\u001b[0m \u001b[0;32mfrom\u001b[0m \u001b[0mforestci\u001b[0m \u001b[0;32mimport\u001b[0m \u001b[0mrandom_forest_error\u001b[0m\u001b[0;34m\u001b[0m\u001b[0;34m\u001b[0m\u001b[0m\n\u001b[1;32m      2\u001b[0m rf_error =random_forest_error(random_fr_reg, processed_data, processed_test_data, inbag=None,\n\u001b[0;32m----> 3\u001b[0;31m                                calibrate=True, memory_constrained=False, memory_limit=None)\n\u001b[0m\u001b[1;32m      4\u001b[0m \u001b[0mprint\u001b[0m\u001b[0;34m(\u001b[0m\u001b[0mrf_error\u001b[0m\u001b[0;34m)\u001b[0m\u001b[0;34m\u001b[0m\u001b[0;34m\u001b[0m\u001b[0m\n",
            "\u001b[0;32m/usr/local/lib/python3.7/dist-packages/forestci/forestci.py\u001b[0m in \u001b[0;36mrandom_forest_error\u001b[0;34m(forest, X_train, X_test, inbag, calibrate, memory_constrained, memory_limit)\u001b[0m\n\u001b[1;32m    310\u001b[0m         \u001b[0minbag\u001b[0m \u001b[0;34m=\u001b[0m \u001b[0mcalc_inbag\u001b[0m\u001b[0;34m(\u001b[0m\u001b[0mX_train\u001b[0m\u001b[0;34m.\u001b[0m\u001b[0mshape\u001b[0m\u001b[0;34m[\u001b[0m\u001b[0;36m0\u001b[0m\u001b[0;34m]\u001b[0m\u001b[0;34m,\u001b[0m \u001b[0mforest\u001b[0m\u001b[0;34m)\u001b[0m\u001b[0;34m\u001b[0m\u001b[0;34m\u001b[0m\u001b[0m\n\u001b[1;32m    311\u001b[0m \u001b[0;34m\u001b[0m\u001b[0m\n\u001b[0;32m--> 312\u001b[0;31m     \u001b[0mpred_centered\u001b[0m \u001b[0;34m=\u001b[0m \u001b[0m_centered_prediction_forest\u001b[0m\u001b[0;34m(\u001b[0m\u001b[0mforest\u001b[0m\u001b[0;34m,\u001b[0m \u001b[0mX_test\u001b[0m\u001b[0;34m)\u001b[0m\u001b[0;34m\u001b[0m\u001b[0;34m\u001b[0m\u001b[0m\n\u001b[0m\u001b[1;32m    313\u001b[0m     \u001b[0mn_trees\u001b[0m \u001b[0;34m=\u001b[0m \u001b[0mforest\u001b[0m\u001b[0;34m.\u001b[0m\u001b[0mn_estimators\u001b[0m\u001b[0;34m\u001b[0m\u001b[0;34m\u001b[0m\u001b[0m\n\u001b[1;32m    314\u001b[0m     V_IJ = _core_computation(\n",
            "\u001b[0;32m/usr/local/lib/python3.7/dist-packages/forestci/forestci.py\u001b[0m in \u001b[0;36m_centered_prediction_forest\u001b[0;34m(forest, X_test)\u001b[0m\n\u001b[1;32m    231\u001b[0m         \u001b[0mX_test\u001b[0m \u001b[0;34m=\u001b[0m \u001b[0mX_test\u001b[0m\u001b[0;34m.\u001b[0m\u001b[0mreshape\u001b[0m\u001b[0;34m(\u001b[0m\u001b[0;36m1\u001b[0m\u001b[0;34m,\u001b[0m \u001b[0;34m-\u001b[0m\u001b[0;36m1\u001b[0m\u001b[0;34m)\u001b[0m\u001b[0;34m\u001b[0m\u001b[0;34m\u001b[0m\u001b[0m\n\u001b[1;32m    232\u001b[0m \u001b[0;34m\u001b[0m\u001b[0m\n\u001b[0;32m--> 233\u001b[0;31m     \u001b[0mpred\u001b[0m \u001b[0;34m=\u001b[0m \u001b[0mnp\u001b[0m\u001b[0;34m.\u001b[0m\u001b[0marray\u001b[0m\u001b[0;34m(\u001b[0m\u001b[0;34m[\u001b[0m\u001b[0mtree\u001b[0m\u001b[0;34m.\u001b[0m\u001b[0mpredict\u001b[0m\u001b[0;34m(\u001b[0m\u001b[0mX_test\u001b[0m\u001b[0;34m)\u001b[0m \u001b[0;32mfor\u001b[0m \u001b[0mtree\u001b[0m \u001b[0;32min\u001b[0m \u001b[0mforest\u001b[0m\u001b[0;34m]\u001b[0m\u001b[0;34m)\u001b[0m\u001b[0;34m.\u001b[0m\u001b[0mT\u001b[0m\u001b[0;34m\u001b[0m\u001b[0;34m\u001b[0m\u001b[0m\n\u001b[0m\u001b[1;32m    234\u001b[0m     \u001b[0mpred_mean\u001b[0m \u001b[0;34m=\u001b[0m \u001b[0mnp\u001b[0m\u001b[0;34m.\u001b[0m\u001b[0mmean\u001b[0m\u001b[0;34m(\u001b[0m\u001b[0mpred\u001b[0m\u001b[0;34m,\u001b[0m \u001b[0;36m1\u001b[0m\u001b[0;34m)\u001b[0m\u001b[0;34m.\u001b[0m\u001b[0mreshape\u001b[0m\u001b[0;34m(\u001b[0m\u001b[0mX_test\u001b[0m\u001b[0;34m.\u001b[0m\u001b[0mshape\u001b[0m\u001b[0;34m[\u001b[0m\u001b[0;36m0\u001b[0m\u001b[0;34m]\u001b[0m\u001b[0;34m,\u001b[0m \u001b[0;36m1\u001b[0m\u001b[0;34m)\u001b[0m\u001b[0;34m\u001b[0m\u001b[0;34m\u001b[0m\u001b[0m\n\u001b[1;32m    235\u001b[0m \u001b[0;34m\u001b[0m\u001b[0m\n",
            "\u001b[0;32m/usr/local/lib/python3.7/dist-packages/forestci/forestci.py\u001b[0m in \u001b[0;36m<listcomp>\u001b[0;34m(.0)\u001b[0m\n\u001b[1;32m    231\u001b[0m         \u001b[0mX_test\u001b[0m \u001b[0;34m=\u001b[0m \u001b[0mX_test\u001b[0m\u001b[0;34m.\u001b[0m\u001b[0mreshape\u001b[0m\u001b[0;34m(\u001b[0m\u001b[0;36m1\u001b[0m\u001b[0;34m,\u001b[0m \u001b[0;34m-\u001b[0m\u001b[0;36m1\u001b[0m\u001b[0;34m)\u001b[0m\u001b[0;34m\u001b[0m\u001b[0;34m\u001b[0m\u001b[0m\n\u001b[1;32m    232\u001b[0m \u001b[0;34m\u001b[0m\u001b[0m\n\u001b[0;32m--> 233\u001b[0;31m     \u001b[0mpred\u001b[0m \u001b[0;34m=\u001b[0m \u001b[0mnp\u001b[0m\u001b[0;34m.\u001b[0m\u001b[0marray\u001b[0m\u001b[0;34m(\u001b[0m\u001b[0;34m[\u001b[0m\u001b[0mtree\u001b[0m\u001b[0;34m.\u001b[0m\u001b[0mpredict\u001b[0m\u001b[0;34m(\u001b[0m\u001b[0mX_test\u001b[0m\u001b[0;34m)\u001b[0m \u001b[0;32mfor\u001b[0m \u001b[0mtree\u001b[0m \u001b[0;32min\u001b[0m \u001b[0mforest\u001b[0m\u001b[0;34m]\u001b[0m\u001b[0;34m)\u001b[0m\u001b[0;34m.\u001b[0m\u001b[0mT\u001b[0m\u001b[0;34m\u001b[0m\u001b[0;34m\u001b[0m\u001b[0m\n\u001b[0m\u001b[1;32m    234\u001b[0m     \u001b[0mpred_mean\u001b[0m \u001b[0;34m=\u001b[0m \u001b[0mnp\u001b[0m\u001b[0;34m.\u001b[0m\u001b[0mmean\u001b[0m\u001b[0;34m(\u001b[0m\u001b[0mpred\u001b[0m\u001b[0;34m,\u001b[0m \u001b[0;36m1\u001b[0m\u001b[0;34m)\u001b[0m\u001b[0;34m.\u001b[0m\u001b[0mreshape\u001b[0m\u001b[0;34m(\u001b[0m\u001b[0mX_test\u001b[0m\u001b[0;34m.\u001b[0m\u001b[0mshape\u001b[0m\u001b[0;34m[\u001b[0m\u001b[0;36m0\u001b[0m\u001b[0;34m]\u001b[0m\u001b[0;34m,\u001b[0m \u001b[0;36m1\u001b[0m\u001b[0;34m)\u001b[0m\u001b[0;34m\u001b[0m\u001b[0;34m\u001b[0m\u001b[0m\n\u001b[1;32m    235\u001b[0m \u001b[0;34m\u001b[0m\u001b[0m\n",
            "\u001b[0;32m/usr/local/lib/python3.7/dist-packages/sklearn/tree/_classes.py\u001b[0m in \u001b[0;36mpredict\u001b[0;34m(self, X, check_input)\u001b[0m\n\u001b[1;32m    465\u001b[0m         \"\"\"\n\u001b[1;32m    466\u001b[0m         \u001b[0mcheck_is_fitted\u001b[0m\u001b[0;34m(\u001b[0m\u001b[0mself\u001b[0m\u001b[0;34m)\u001b[0m\u001b[0;34m\u001b[0m\u001b[0;34m\u001b[0m\u001b[0m\n\u001b[0;32m--> 467\u001b[0;31m         \u001b[0mX\u001b[0m \u001b[0;34m=\u001b[0m \u001b[0mself\u001b[0m\u001b[0;34m.\u001b[0m\u001b[0m_validate_X_predict\u001b[0m\u001b[0;34m(\u001b[0m\u001b[0mX\u001b[0m\u001b[0;34m,\u001b[0m \u001b[0mcheck_input\u001b[0m\u001b[0;34m)\u001b[0m\u001b[0;34m\u001b[0m\u001b[0;34m\u001b[0m\u001b[0m\n\u001b[0m\u001b[1;32m    468\u001b[0m         \u001b[0mproba\u001b[0m \u001b[0;34m=\u001b[0m \u001b[0mself\u001b[0m\u001b[0;34m.\u001b[0m\u001b[0mtree_\u001b[0m\u001b[0;34m.\u001b[0m\u001b[0mpredict\u001b[0m\u001b[0;34m(\u001b[0m\u001b[0mX\u001b[0m\u001b[0;34m)\u001b[0m\u001b[0;34m\u001b[0m\u001b[0;34m\u001b[0m\u001b[0m\n\u001b[1;32m    469\u001b[0m         \u001b[0mn_samples\u001b[0m \u001b[0;34m=\u001b[0m \u001b[0mX\u001b[0m\u001b[0;34m.\u001b[0m\u001b[0mshape\u001b[0m\u001b[0;34m[\u001b[0m\u001b[0;36m0\u001b[0m\u001b[0;34m]\u001b[0m\u001b[0;34m\u001b[0m\u001b[0;34m\u001b[0m\u001b[0m\n",
            "\u001b[0;32m/usr/local/lib/python3.7/dist-packages/sklearn/tree/_classes.py\u001b[0m in \u001b[0;36m_validate_X_predict\u001b[0;34m(self, X, check_input)\u001b[0m\n\u001b[1;32m    431\u001b[0m         \u001b[0;34m\"\"\"Validate the training data on predict (probabilities).\"\"\"\u001b[0m\u001b[0;34m\u001b[0m\u001b[0;34m\u001b[0m\u001b[0m\n\u001b[1;32m    432\u001b[0m         \u001b[0;32mif\u001b[0m \u001b[0mcheck_input\u001b[0m\u001b[0;34m:\u001b[0m\u001b[0;34m\u001b[0m\u001b[0;34m\u001b[0m\u001b[0m\n\u001b[0;32m--> 433\u001b[0;31m             \u001b[0mX\u001b[0m \u001b[0;34m=\u001b[0m \u001b[0mself\u001b[0m\u001b[0;34m.\u001b[0m\u001b[0m_validate_data\u001b[0m\u001b[0;34m(\u001b[0m\u001b[0mX\u001b[0m\u001b[0;34m,\u001b[0m \u001b[0mdtype\u001b[0m\u001b[0;34m=\u001b[0m\u001b[0mDTYPE\u001b[0m\u001b[0;34m,\u001b[0m \u001b[0maccept_sparse\u001b[0m\u001b[0;34m=\u001b[0m\u001b[0;34m\"csr\"\u001b[0m\u001b[0;34m,\u001b[0m \u001b[0mreset\u001b[0m\u001b[0;34m=\u001b[0m\u001b[0;32mFalse\u001b[0m\u001b[0;34m)\u001b[0m\u001b[0;34m\u001b[0m\u001b[0;34m\u001b[0m\u001b[0m\n\u001b[0m\u001b[1;32m    434\u001b[0m             if issparse(X) and (\n\u001b[1;32m    435\u001b[0m                 \u001b[0mX\u001b[0m\u001b[0;34m.\u001b[0m\u001b[0mindices\u001b[0m\u001b[0;34m.\u001b[0m\u001b[0mdtype\u001b[0m \u001b[0;34m!=\u001b[0m \u001b[0mnp\u001b[0m\u001b[0;34m.\u001b[0m\u001b[0mintc\u001b[0m \u001b[0;32mor\u001b[0m \u001b[0mX\u001b[0m\u001b[0;34m.\u001b[0m\u001b[0mindptr\u001b[0m\u001b[0;34m.\u001b[0m\u001b[0mdtype\u001b[0m \u001b[0;34m!=\u001b[0m \u001b[0mnp\u001b[0m\u001b[0;34m.\u001b[0m\u001b[0mintc\u001b[0m\u001b[0;34m\u001b[0m\u001b[0;34m\u001b[0m\u001b[0m\n",
            "\u001b[0;32m/usr/local/lib/python3.7/dist-packages/sklearn/base.py\u001b[0m in \u001b[0;36m_validate_data\u001b[0;34m(self, X, y, reset, validate_separately, **check_params)\u001b[0m\n\u001b[1;32m    583\u001b[0m \u001b[0;34m\u001b[0m\u001b[0m\n\u001b[1;32m    584\u001b[0m         \u001b[0;32mif\u001b[0m \u001b[0;32mnot\u001b[0m \u001b[0mno_val_X\u001b[0m \u001b[0;32mand\u001b[0m \u001b[0mcheck_params\u001b[0m\u001b[0;34m.\u001b[0m\u001b[0mget\u001b[0m\u001b[0;34m(\u001b[0m\u001b[0;34m\"ensure_2d\"\u001b[0m\u001b[0;34m,\u001b[0m \u001b[0;32mTrue\u001b[0m\u001b[0;34m)\u001b[0m\u001b[0;34m:\u001b[0m\u001b[0;34m\u001b[0m\u001b[0;34m\u001b[0m\u001b[0m\n\u001b[0;32m--> 585\u001b[0;31m             \u001b[0mself\u001b[0m\u001b[0;34m.\u001b[0m\u001b[0m_check_n_features\u001b[0m\u001b[0;34m(\u001b[0m\u001b[0mX\u001b[0m\u001b[0;34m,\u001b[0m \u001b[0mreset\u001b[0m\u001b[0;34m=\u001b[0m\u001b[0mreset\u001b[0m\u001b[0;34m)\u001b[0m\u001b[0;34m\u001b[0m\u001b[0;34m\u001b[0m\u001b[0m\n\u001b[0m\u001b[1;32m    586\u001b[0m \u001b[0;34m\u001b[0m\u001b[0m\n\u001b[1;32m    587\u001b[0m         \u001b[0;32mreturn\u001b[0m \u001b[0mout\u001b[0m\u001b[0;34m\u001b[0m\u001b[0;34m\u001b[0m\u001b[0m\n",
            "\u001b[0;32m/usr/local/lib/python3.7/dist-packages/sklearn/base.py\u001b[0m in \u001b[0;36m_check_n_features\u001b[0;34m(self, X, reset)\u001b[0m\n\u001b[1;32m    399\u001b[0m         \u001b[0;32mif\u001b[0m \u001b[0mn_features\u001b[0m \u001b[0;34m!=\u001b[0m \u001b[0mself\u001b[0m\u001b[0;34m.\u001b[0m\u001b[0mn_features_in_\u001b[0m\u001b[0;34m:\u001b[0m\u001b[0;34m\u001b[0m\u001b[0;34m\u001b[0m\u001b[0m\n\u001b[1;32m    400\u001b[0m             raise ValueError(\n\u001b[0;32m--> 401\u001b[0;31m                 \u001b[0;34mf\"X has {n_features} features, but {self.__class__.__name__} \"\u001b[0m\u001b[0;34m\u001b[0m\u001b[0;34m\u001b[0m\u001b[0m\n\u001b[0m\u001b[1;32m    402\u001b[0m                 \u001b[0;34mf\"is expecting {self.n_features_in_} features as input.\"\u001b[0m\u001b[0;34m\u001b[0m\u001b[0;34m\u001b[0m\u001b[0m\n\u001b[1;32m    403\u001b[0m             )\n",
            "\u001b[0;31mValueError\u001b[0m: X has 70 features, but DecisionTreeRegressor is expecting 967 features as input."
          ]
        }
      ]
    },
    {
      "cell_type": "code",
      "source": [
        "import pickle\n",
        "import datetime\n",
        "  \n",
        "# get current date and current time - UTC\n",
        "current_time = datetime.datetime.now()\n",
        "# Save the trained model as a pickle string.\n",
        "fileName = current_time.strftime(\"%d-%m-%Y-%H:%M:%S:%f\")+'.pkl'\n",
        "# saves to my current directory in google drive\n",
        "# Option: %cd /content/drive/MyDrive/Datasets/PharmaSalesCSV/\n",
        "with open(fileName, 'wb') as f:\n",
        "    pickle.dump(random_fr_reg, f)"
      ],
      "metadata": {
        "id": "rksIE6l4k1n8"
      },
      "execution_count": null,
      "outputs": []
    },
    {
      "cell_type": "markdown",
      "source": [
        "# **PREDICTIONS USING LSTM-RNN**"
      ],
      "metadata": {
        "id": "89GYSszBRdhj"
      }
    },
    {
      "cell_type": "code",
      "source": [
        "!pip3 install torch-tensorrt -f https://github.com/pytorch/TensorRT/releases"
      ],
      "metadata": {
        "colab": {
          "base_uri": "https://localhost:8080/"
        },
        "id": "2zOEDpas2NW8",
        "outputId": "beced465-bad2-4e9a-b6f9-a111a8a9b9cf"
      },
      "execution_count": null,
      "outputs": [
        {
          "output_type": "stream",
          "name": "stdout",
          "text": [
            "Looking in indexes: https://pypi.org/simple, https://us-python.pkg.dev/colab-wheels/public/simple/\n",
            "Looking in links: https://github.com/pytorch/TensorRT/releases\n",
            "Collecting torch-tensorrt\n",
            "  Downloading https://github.com/pytorch/TensorRT/releases/download/v1.1.0/torch_tensorrt-1.1.0-cp37-cp37m-linux_x86_64.whl (11.6 MB)\n",
            "\u001b[K     |████████████████████████████████| 11.6 MB 8.5 MB/s \n",
            "\u001b[?25hRequirement already satisfied: torch>=1.11.0+cu113<1.12.0 in /usr/local/lib/python3.7/dist-packages (from torch-tensorrt) (1.12.1+cu113)\n",
            "Requirement already satisfied: typing-extensions in /usr/local/lib/python3.7/dist-packages (from torch>=1.11.0+cu113<1.12.0->torch-tensorrt) (4.1.1)\n",
            "Installing collected packages: torch-tensorrt\n",
            "Successfully installed torch-tensorrt-1.1.0\n"
          ]
        }
      ]
    },
    {
      "cell_type": "code",
      "source": [
        "import torch\n",
        "import torch.nn as nn\n",
        "from torch.autograd import Variable"
      ],
      "metadata": {
        "id": "JpYoSwy-C6VR"
      },
      "execution_count": null,
      "outputs": []
    },
    {
      "cell_type": "code",
      "source": [
        "seq_length = 4\n",
        "class LSTM(nn.Module):\n",
        "\n",
        "    def __init__(self, num_classes, input_size, hidden_size, num_layers):\n",
        "        super(LSTM, self).__init__()\n",
        "        \n",
        "        self.num_classes = num_classes\n",
        "        self.num_layers = num_layers\n",
        "        self.input_size = input_size\n",
        "        self.hidden_size = hidden_size\n",
        "        self.seq_length = seq_length\n",
        "        self.lstm = nn.LSTM(input_size=input_size, hidden_size=hidden_size,\n",
        "                            num_layers=num_layers, batch_first=True)\n",
        "        \n",
        "        self.fc = nn.Linear(hidden_size, num_classes)\n",
        "\n",
        "    def forwardLearning(self, x):\n",
        "        h_0 = Variable(torch.zeros(\n",
        "            self.num_layers, x.size, self.hidden_size))\n",
        "        \n",
        "        c_0 = Variable(torch.zeros(\n",
        "            self.num_layers, x.size, self.hidden_size))\n",
        "        \n",
        "        # Propagate input through LSTM\n",
        "        ula, (h_out, _) = self.lstm(x, (h_0, c_0))\n",
        "        \n",
        "        h_out = h_out.view(-1, self.hidden_size)\n",
        "        \n",
        "        out = self.fc(h_out)\n",
        "        \n",
        "        return out"
      ],
      "metadata": {
        "id": "9WxnT8CpRby_"
      },
      "execution_count": null,
      "outputs": []
    },
    {
      "cell_type": "code",
      "source": [
        "num_epochs = 2\n",
        "learning_rate = 0.01\n",
        "\n",
        "input_size = 1\n",
        "hidden_size = 2\n",
        "num_layers = 2\n",
        "\n",
        "num_classes = 1\n",
        "# modifying dataframes to acceptable input for lstm model \n",
        "train_X = Variable(torch.from_numpy(processed_data.toarray()))\n",
        "train_Y = Variable(torch.Tensor(np.array(merged_train_dataset[\"Sales\"])))\n",
        "# initialize the LSTM model using above inputs as parameters\n",
        "lstm_model = LSTM(num_classes, input_size, hidden_size, num_layers)\n",
        "\n",
        "criterion = torch.nn.MSELoss()    # use mean-squared error for regression\n",
        "optimizer = torch.optim.Adam(lstm_model.parameters(), lr=learning_rate)\n",
        "#optimizer = torch.optim.SGD(lstm_model.parameters(), lr=learning_rate)\n",
        "\n",
        "# Train the model\n",
        "for epoch in range(num_epochs):\n",
        "    outputs = lstm_model(train_X, \n",
        "                        lstm_model.forwardLearning(torch.from_numpy(processed_data.to_array())))\n",
        "    optimizer.zero_grad()\n",
        "    \n",
        "    # obtain the loss function\n",
        "    loss = criterion(outputs, merged_train_dataset[\"Sales\"])\n",
        "    \n",
        "    loss.backward()\n",
        "    \n",
        "    optimizer.step()\n",
        "    if epoch % 2 == 0:\n",
        "      print(\"Epoch: %d, loss: %1.5f\" % (epoch, loss.item()))"
      ],
      "metadata": {
        "colab": {
          "base_uri": "https://localhost:8080/",
          "height": 356
        },
        "id": "HLmi8NkzSRKR",
        "outputId": "af033a35-0a43-4723-a5a0-757e02914569"
      },
      "execution_count": null,
      "outputs": [
        {
          "output_type": "error",
          "ename": "AttributeError",
          "evalue": "ignored",
          "traceback": [
            "\u001b[0;31m---------------------------------------------------------------------------\u001b[0m",
            "\u001b[0;31mAttributeError\u001b[0m                            Traceback (most recent call last)",
            "\u001b[0;32m<ipython-input-6-1d7a15570c15>\u001b[0m in \u001b[0;36m<module>\u001b[0;34m\u001b[0m\n\u001b[1;32m     20\u001b[0m \u001b[0;32mfor\u001b[0m \u001b[0mepoch\u001b[0m \u001b[0;32min\u001b[0m \u001b[0mrange\u001b[0m\u001b[0;34m(\u001b[0m\u001b[0mnum_epochs\u001b[0m\u001b[0;34m)\u001b[0m\u001b[0;34m:\u001b[0m\u001b[0;34m\u001b[0m\u001b[0;34m\u001b[0m\u001b[0m\n\u001b[1;32m     21\u001b[0m     outputs = lstm_model(train_X, \n\u001b[0;32m---> 22\u001b[0;31m                         lstm_model.forwardLearning(torch.from_numpy(processed_data.to_array())))\n\u001b[0m\u001b[1;32m     23\u001b[0m     \u001b[0moptimizer\u001b[0m\u001b[0;34m.\u001b[0m\u001b[0mzero_grad\u001b[0m\u001b[0;34m(\u001b[0m\u001b[0;34m)\u001b[0m\u001b[0;34m\u001b[0m\u001b[0;34m\u001b[0m\u001b[0m\n\u001b[1;32m     24\u001b[0m \u001b[0;34m\u001b[0m\u001b[0m\n",
            "\u001b[0;32m/usr/local/lib/python3.7/dist-packages/scipy/sparse/base.py\u001b[0m in \u001b[0;36m__getattr__\u001b[0;34m(self, attr)\u001b[0m\n\u001b[1;32m    685\u001b[0m             \u001b[0;32mreturn\u001b[0m \u001b[0mself\u001b[0m\u001b[0;34m.\u001b[0m\u001b[0mgetnnz\u001b[0m\u001b[0;34m(\u001b[0m\u001b[0;34m)\u001b[0m\u001b[0;34m\u001b[0m\u001b[0;34m\u001b[0m\u001b[0m\n\u001b[1;32m    686\u001b[0m         \u001b[0;32melse\u001b[0m\u001b[0;34m:\u001b[0m\u001b[0;34m\u001b[0m\u001b[0;34m\u001b[0m\u001b[0m\n\u001b[0;32m--> 687\u001b[0;31m             \u001b[0;32mraise\u001b[0m \u001b[0mAttributeError\u001b[0m\u001b[0;34m(\u001b[0m\u001b[0mattr\u001b[0m \u001b[0;34m+\u001b[0m \u001b[0;34m\" not found\"\u001b[0m\u001b[0;34m)\u001b[0m\u001b[0;34m\u001b[0m\u001b[0;34m\u001b[0m\u001b[0m\n\u001b[0m\u001b[1;32m    688\u001b[0m \u001b[0;34m\u001b[0m\u001b[0m\n\u001b[1;32m    689\u001b[0m     \u001b[0;32mdef\u001b[0m \u001b[0mtranspose\u001b[0m\u001b[0;34m(\u001b[0m\u001b[0mself\u001b[0m\u001b[0;34m,\u001b[0m \u001b[0maxes\u001b[0m\u001b[0;34m=\u001b[0m\u001b[0;32mNone\u001b[0m\u001b[0;34m,\u001b[0m \u001b[0mcopy\u001b[0m\u001b[0;34m=\u001b[0m\u001b[0;32mFalse\u001b[0m\u001b[0;34m)\u001b[0m\u001b[0;34m:\u001b[0m\u001b[0;34m\u001b[0m\u001b[0;34m\u001b[0m\u001b[0m\n",
            "\u001b[0;31mAttributeError\u001b[0m: to_array not found"
          ]
        }
      ]
    }
  ]
}
